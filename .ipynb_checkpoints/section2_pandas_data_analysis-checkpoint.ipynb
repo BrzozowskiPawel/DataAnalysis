{
 "cells": [
  {
   "cell_type": "markdown",
   "metadata": {
    "id": "ljDjZM1m-DAW"
   },
   "source": [
    "# Analyzing Tabular Data using Python and Pandas\n",
    "\n",
    "![](https://i.imgur.com/zfxLzEv.png)\n",
    "\n",
    "\n",
    "This notebook is based on [tutorial](https://jovian.ai/learn/data-analysis-with-python-zero-to-pandas)"
   ]
  },
  {
   "cell_type": "markdown",
   "metadata": {
    "id": "Kan6KMI--DAY"
   },
   "source": [
    "## Reading a CSV file using Pandas\n",
    "\n",
    "[Pandas](https://pandas.pydata.org/) is a popular Python library used for working in tabular data (similar to the data stored in a spreadsheet). </br> Pandas provides helper functions to read data from various file formats like CSV, Excel spreadsheets, HTML tables, JSON, SQL, and more. </br> Let's download a file `italy-covid-daywise.txt` which contains day-wise Covid-19 data for Italy in the following format:\n",
    "\n",
    "```\n",
    "date,new_cases,new_deaths,new_tests\n",
    "2020-04-21,2256.0,454.0,28095.0\n",
    "2020-04-22,2729.0,534.0,44248.0\n",
    "2020-04-23,3370.0,437.0,37083.0\n",
    "2020-04-24,2646.0,464.0,95273.0\n",
    "2020-04-25,3021.0,420.0,38676.0\n",
    "2020-04-26,2357.0,415.0,24113.0\n",
    "2020-04-27,2324.0,260.0,26678.0\n",
    "2020-04-28,1739.0,333.0,37554.0\n",
    "...\n",
    "```\n",
    "\n",
    "This format of storing data is known as *comma-separated values* or CSV. \n",
    "\n",
    "> **CSVs**: A comma-separated values (CSV) file is a delimited text file that uses a comma to separate values. Each line of the file is a data record. Each record consists of one or more fields, separated by commas. A CSV file typically stores tabular data (numbers and text) in plain text, in which case each line will have the same number of fields. (Wikipedia)\n",
    "\n",
    "\n",
    "We'll download this file using the `urlretrieve` function from the `urllib.request` module."
   ]
  },
  {
   "cell_type": "code",
   "execution_count": null,
   "metadata": {
    "id": "sEkA-u9r-DAZ"
   },
   "outputs": [],
   "source": [
    "from urllib.request import urlretrieve"
   ]
  },
  {
   "cell_type": "code",
   "execution_count": null,
   "metadata": {
    "colab": {
     "base_uri": "https://localhost:8080/"
    },
    "id": "HVh987rX-DAZ",
    "outputId": "911cb3d6-3066-4516-b969-5a10d903b91d"
   },
   "outputs": [
    {
     "data": {
      "text/plain": [
       "('italy-covid-daywise.csv', <http.client.HTTPMessage at 0x7f6fac708750>)"
      ]
     },
     "execution_count": 2,
     "metadata": {},
     "output_type": "execute_result"
    }
   ],
   "source": [
    "italy_covid_url = 'https://gist.githubusercontent.com/aakashns/f6a004fa20c84fec53262f9a8bfee775/raw/f309558b1cf5103424cef58e2ecb8704dcd4d74c/italy-covid-daywise.csv'\n",
    "\n",
    "urlretrieve(italy_covid_url, 'italy-covid-daywise.csv')"
   ]
  },
  {
   "cell_type": "markdown",
   "metadata": {
    "id": "DYTqaW9p-DAb"
   },
   "source": [
    "To read the file, we can use the `read_csv` method from Pandas. First, let's install the Pandas library."
   ]
  },
  {
   "cell_type": "code",
   "execution_count": null,
   "metadata": {
    "colab": {
     "base_uri": "https://localhost:8080/"
    },
    "id": "V9w_njS8-DAb",
    "outputId": "2f68fb2c-a8cd-40a9-d450-0ad67c039bc0"
   },
   "outputs": [
    {
     "name": "stdout",
     "output_type": "stream",
     "text": [
      "\u001b[K     |████████████████████████████████| 11.3 MB 7.4 MB/s \n",
      "\u001b[31mERROR: pip's dependency resolver does not currently take into account all the packages that are installed. This behaviour is the source of the following dependency conflicts.\n",
      "google-colab 1.0.0 requires pandas~=1.1.0; python_version >= \"3.0\", but you have pandas 1.3.2 which is incompatible.\u001b[0m\n",
      "\u001b[?25h"
     ]
    }
   ],
   "source": [
    "!pip install pandas --upgrade --quiet"
   ]
  },
  {
   "cell_type": "markdown",
   "metadata": {
    "id": "tsCPnAbE-DAc"
   },
   "source": [
    "We can now import the `pandas` module. As a convention, it is imported with the alias `pd`."
   ]
  },
  {
   "cell_type": "code",
   "execution_count": null,
   "metadata": {
    "id": "MKWHSPVF-DAc"
   },
   "outputs": [],
   "source": [
    "import pandas as pd"
   ]
  },
  {
   "cell_type": "code",
   "execution_count": null,
   "metadata": {
    "id": "B-maPb0U-DAc"
   },
   "outputs": [],
   "source": [
    "covid_df = pd.read_csv('italy-covid-daywise.csv')"
   ]
  },
  {
   "cell_type": "markdown",
   "metadata": {
    "id": "f_QU_J0G-DAc"
   },
   "source": [
    "Data from the file is read and stored in a `DataFrame` object - one of the core data structures in Pandas for storing and working with tabular data. We typically use the `_df` suffix in the variable names for dataframes."
   ]
  },
  {
   "cell_type": "code",
   "execution_count": null,
   "metadata": {
    "colab": {
     "base_uri": "https://localhost:8080/"
    },
    "id": "Rt1MP2uF-DAc",
    "outputId": "e1f1a2ed-c662-4f4d-f360-15be74f606ba"
   },
   "outputs": [
    {
     "data": {
      "text/plain": [
       "pandas.core.frame.DataFrame"
      ]
     },
     "execution_count": 6,
     "metadata": {},
     "output_type": "execute_result"
    }
   ],
   "source": [
    "type(covid_df)"
   ]
  },
  {
   "cell_type": "code",
   "execution_count": null,
   "metadata": {
    "colab": {
     "base_uri": "https://localhost:8080/"
    },
    "id": "e2fv1q85-DAd",
    "outputId": "78dfa420-95ca-4c43-abf3-4333e200aaae"
   },
   "outputs": [
    {
     "name": "stdout",
     "output_type": "stream",
     "text": [
      "           date  new_cases  new_deaths  new_tests\n",
      "0    2019-12-31        0.0         0.0        NaN\n",
      "1    2020-01-01        0.0         0.0        NaN\n",
      "2    2020-01-02        0.0         0.0        NaN\n",
      "3    2020-01-03        0.0         0.0        NaN\n",
      "4    2020-01-04        0.0         0.0        NaN\n",
      "..          ...        ...         ...        ...\n",
      "243  2020-08-30     1444.0         1.0    53541.0\n",
      "244  2020-08-31     1365.0         4.0    42583.0\n",
      "245  2020-09-01      996.0         6.0    54395.0\n",
      "246  2020-09-02      975.0         8.0        NaN\n",
      "247  2020-09-03     1326.0         6.0        NaN\n",
      "\n",
      "[248 rows x 4 columns]\n"
     ]
    }
   ],
   "source": [
    "print(covid_df)"
   ]
  },
  {
   "cell_type": "markdown",
   "metadata": {
    "id": "mp4u8JKC-DAd"
   },
   "source": [
    "Here's what we can tell by looking at the dataframe:\n",
    "\n",
    "- The file provides four day-wise counts for COVID-19 in Italy\n",
    "- The metrics reported are new cases, deaths, and tests\n",
    "- Data is provided for 248 days: from Dec 12, 2019, to Sep 3, 2020\n",
    "\n",
    "We can view some basic information about the data frame using the `.info` method."
   ]
  },
  {
   "cell_type": "code",
   "execution_count": null,
   "metadata": {
    "colab": {
     "base_uri": "https://localhost:8080/"
    },
    "id": "1_ZpAOWC-DAd",
    "outputId": "f5bd884e-3112-4f96-9d2b-65499e8125f0"
   },
   "outputs": [
    {
     "name": "stdout",
     "output_type": "stream",
     "text": [
      "<class 'pandas.core.frame.DataFrame'>\n",
      "RangeIndex: 248 entries, 0 to 247\n",
      "Data columns (total 4 columns):\n",
      " #   Column      Non-Null Count  Dtype  \n",
      "---  ------      --------------  -----  \n",
      " 0   date        248 non-null    object \n",
      " 1   new_cases   248 non-null    float64\n",
      " 2   new_deaths  248 non-null    float64\n",
      " 3   new_tests   135 non-null    float64\n",
      "dtypes: float64(3), object(1)\n",
      "memory usage: 7.9+ KB\n"
     ]
    }
   ],
   "source": [
    "covid_df.info()"
   ]
  },
  {
   "cell_type": "markdown",
   "metadata": {
    "id": "6SMSLvDR-DAd"
   },
   "source": [
    "It appears that each column contains values of a specific data type. You can view statistical information for numerical columns (mean, standard deviation, minimum/maximum values, and the number of non-empty values) using the `.describe` method."
   ]
  },
  {
   "cell_type": "code",
   "execution_count": null,
   "metadata": {
    "colab": {
     "base_uri": "https://localhost:8080/"
    },
    "id": "NCRKi4Q0-DAd",
    "outputId": "d06f5e31-baf8-4a54-9771-fec43fc11e77"
   },
   "outputs": [
    {
     "name": "stdout",
     "output_type": "stream",
     "text": [
      "         new_cases  new_deaths     new_tests\n",
      "count   248.000000  248.000000    135.000000\n",
      "mean   1094.818548  143.133065  31699.674074\n",
      "std    1554.508002  227.105538  11622.209757\n",
      "min    -148.000000  -31.000000   7841.000000\n",
      "25%     123.000000    3.000000  25259.000000\n",
      "50%     342.000000   17.000000  29545.000000\n",
      "75%    1371.750000  175.250000  37711.000000\n",
      "max    6557.000000  971.000000  95273.000000\n"
     ]
    }
   ],
   "source": [
    "print(covid_df.describe())"
   ]
  },
  {
   "cell_type": "markdown",
   "metadata": {
    "id": "ksWJ_5jD-DAe"
   },
   "source": [
    "The `columns` property contains the list of columns within the data frame."
   ]
  },
  {
   "cell_type": "code",
   "execution_count": null,
   "metadata": {
    "colab": {
     "base_uri": "https://localhost:8080/"
    },
    "id": "ef2q4664-DAe",
    "outputId": "62211751-b232-45fb-de40-faa89b741006"
   },
   "outputs": [
    {
     "data": {
      "text/plain": [
       "Index(['date', 'new_cases', 'new_deaths', 'new_tests'], dtype='object')"
      ]
     },
     "execution_count": 10,
     "metadata": {},
     "output_type": "execute_result"
    }
   ],
   "source": [
    "covid_df.columns"
   ]
  },
  {
   "cell_type": "markdown",
   "metadata": {
    "id": "f0IXYqmm-DAe"
   },
   "source": [
    "You can also retrieve the number of rows and columns in the data frame using the `.shape` method."
   ]
  },
  {
   "cell_type": "code",
   "execution_count": null,
   "metadata": {
    "colab": {
     "base_uri": "https://localhost:8080/"
    },
    "id": "QgRzBAXp-DAe",
    "outputId": "6daa807d-d631-4a5e-b228-b244bd1bce20"
   },
   "outputs": [
    {
     "data": {
      "text/plain": [
       "(248, 4)"
      ]
     },
     "execution_count": 11,
     "metadata": {},
     "output_type": "execute_result"
    }
   ],
   "source": [
    "covid_df.shape"
   ]
  },
  {
   "cell_type": "markdown",
   "metadata": {
    "id": "_bTqf2xQ-DAe"
   },
   "source": [
    "Here's a summary of the functions & methods:\n",
    "\n",
    "* `pd.read_csv` - Read data from a CSV file into a Pandas `DataFrame` object\n",
    "* `.info()` - View basic infomation about rows, columns & data types\n",
    "* `.describe()` - View statistical information about numeric columns\n",
    "* `.columns` - Get the list of column names\n",
    "* `.shape` - Get the number of rows & columns as a tuple\n"
   ]
  },
  {
   "cell_type": "markdown",
   "metadata": {
    "id": "j9Cq2L23-DAf"
   },
   "source": [
    "## Retrieving data from a data frame\n",
    "\n",
    "Conceptually, you can think of a dataframe as a dictionary of lists: keys are column names, and values are lists/arrays containing data for the respective columns. "
   ]
  },
  {
   "cell_type": "code",
   "execution_count": null,
   "metadata": {
    "id": "KIzTE-ch-DAf"
   },
   "outputs": [],
   "source": [
    "# Pandas format IS SIMILAR to this\n",
    "covid_data_dict = {\n",
    "    'date':       ['2020-08-30', '2020-08-31', '2020-09-01', '2020-09-02', '2020-09-03'],\n",
    "    'new_cases':  [1444, 1365, 996, 975, 1326],\n",
    "    'new_deaths': [1, 4, 6, 8, 6],\n",
    "    'new_tests': [53541, 42583, 54395, None, None]\n",
    "}"
   ]
  },
  {
   "cell_type": "markdown",
   "metadata": {
    "id": "IV9i3Mim-DAf"
   },
   "source": [
    "Representing data in the above format has a few benefits:\n",
    "\n",
    "* All values in a **column** typically have the **same type of value**, so it's more efficient to store them in a single array.\n",
    "* Retrieving the values for a particular row simply requires extracting the elements at a given index from each column array.\n",
    "* The representation is **more compact** (column names are recorded only once) compared to other formats that use a dictionary for each row of data (see the example below)."
   ]
  },
  {
   "cell_type": "code",
   "execution_count": null,
   "metadata": {
    "id": "N1eNTPeY-DAf"
   },
   "outputs": [],
   "source": [
    "# Pandas format is NOT similar to this\n",
    "covid_data_list = [\n",
    "    {'date': '2020-08-30', 'new_cases': 1444, 'new_deaths': 1, 'new_tests': 53541},\n",
    "    {'date': '2020-08-31', 'new_cases': 1365, 'new_deaths': 4, 'new_tests': 42583},\n",
    "    {'date': '2020-09-01', 'new_cases': 996, 'new_deaths': 6, 'new_tests': 54395},\n",
    "    {'date': '2020-09-02', 'new_cases': 975, 'new_deaths': 8 },\n",
    "    {'date': '2020-09-03', 'new_cases': 1326, 'new_deaths': 6},\n",
    "]"
   ]
  },
  {
   "cell_type": "markdown",
   "metadata": {
    "id": "KFy3eXW7-DAf"
   },
   "source": [
    "With the dictionary of lists analogy in mind, you can now guess how to retrieve data from a data frame. For example, we can get a list of values from a specific column using the `[]` indexing notation."
   ]
  },
  {
   "cell_type": "code",
   "execution_count": null,
   "metadata": {
    "colab": {
     "base_uri": "https://localhost:8080/"
    },
    "id": "1RwnvFci-DAf",
    "outputId": "228623d0-d11b-46a9-ee7e-cbc0325bdce7"
   },
   "outputs": [
    {
     "data": {
      "text/plain": [
       "[1444, 1365, 996, 975, 1326]"
      ]
     },
     "execution_count": 14,
     "metadata": {},
     "output_type": "execute_result"
    }
   ],
   "source": [
    "covid_data_dict['new_cases']"
   ]
  },
  {
   "cell_type": "code",
   "execution_count": null,
   "metadata": {
    "colab": {
     "base_uri": "https://localhost:8080/"
    },
    "id": "aJ-v54Hw-DAf",
    "outputId": "1e3b71fa-0f8e-4f02-b463-a4d09593cb4b"
   },
   "outputs": [
    {
     "data": {
      "text/plain": [
       "0         0.0\n",
       "1         0.0\n",
       "2         0.0\n",
       "3         0.0\n",
       "4         0.0\n",
       "        ...  \n",
       "243    1444.0\n",
       "244    1365.0\n",
       "245     996.0\n",
       "246     975.0\n",
       "247    1326.0\n",
       "Name: new_cases, Length: 248, dtype: float64"
      ]
     },
     "execution_count": 15,
     "metadata": {},
     "output_type": "execute_result"
    }
   ],
   "source": [
    "covid_df['new_cases']"
   ]
  },
  {
   "cell_type": "markdown",
   "metadata": {
    "id": "qoepjGDQ-DAg"
   },
   "source": [
    "Each column is represented using a data structure called `Series`, which is essentially a numpy array with some extra methods and properties."
   ]
  },
  {
   "cell_type": "code",
   "execution_count": null,
   "metadata": {
    "colab": {
     "base_uri": "https://localhost:8080/"
    },
    "id": "D5r_XEdv-DAg",
    "outputId": "e6329d93-2de1-4aec-9d62-8af4c9b727d9"
   },
   "outputs": [
    {
     "data": {
      "text/plain": [
       "pandas.core.series.Series"
      ]
     },
     "execution_count": 16,
     "metadata": {},
     "output_type": "execute_result"
    }
   ],
   "source": [
    "type(covid_df['new_cases'])"
   ]
  },
  {
   "cell_type": "markdown",
   "metadata": {
    "id": "JnN-SdlZ-DAg"
   },
   "source": [
    "Like arrays, you can retrieve a specific value with a series using the indexing notation `[]`."
   ]
  },
  {
   "cell_type": "code",
   "execution_count": null,
   "metadata": {
    "colab": {
     "base_uri": "https://localhost:8080/"
    },
    "id": "HjOdGHP_-DAh",
    "outputId": "34db2249-faba-4be4-e91d-70fab751d909"
   },
   "outputs": [
    {
     "data": {
      "text/plain": [
       "975.0"
      ]
     },
     "execution_count": 17,
     "metadata": {},
     "output_type": "execute_result"
    }
   ],
   "source": [
    "covid_df['new_cases'][246]"
   ]
  },
  {
   "cell_type": "code",
   "execution_count": null,
   "metadata": {
    "colab": {
     "base_uri": "https://localhost:8080/"
    },
    "id": "pU8Tjync-DAh",
    "outputId": "6ba31b5b-79c2-457e-ac7d-ffb58c5e4c53"
   },
   "outputs": [
    {
     "data": {
      "text/plain": [
       "57640.0"
      ]
     },
     "execution_count": 18,
     "metadata": {},
     "output_type": "execute_result"
    }
   ],
   "source": [
    "covid_df['new_tests'][240]"
   ]
  },
  {
   "cell_type": "markdown",
   "metadata": {
    "id": "VErd9A76-DAh"
   },
   "source": [
    "Pandas also provides the `.at` method to retrieve the element at a specific row & column directly."
   ]
  },
  {
   "cell_type": "code",
   "execution_count": null,
   "metadata": {
    "colab": {
     "base_uri": "https://localhost:8080/"
    },
    "id": "kKg7nSQ5-DAh",
    "outputId": "86a346e3-5fbb-4e1c-ec96-eda1e542036b"
   },
   "outputs": [
    {
     "data": {
      "text/plain": [
       "975.0"
      ]
     },
     "execution_count": 19,
     "metadata": {},
     "output_type": "execute_result"
    }
   ],
   "source": [
    "covid_df.at[246, 'new_cases']"
   ]
  },
  {
   "cell_type": "code",
   "execution_count": null,
   "metadata": {
    "colab": {
     "base_uri": "https://localhost:8080/"
    },
    "id": "WEY80e8D-DAh",
    "outputId": "4df2abf7-4187-4c0f-f7fc-45d585ab9e86"
   },
   "outputs": [
    {
     "data": {
      "text/plain": [
       "57640.0"
      ]
     },
     "execution_count": 20,
     "metadata": {},
     "output_type": "execute_result"
    }
   ],
   "source": [
    "covid_df.at[240, 'new_tests']"
   ]
  },
  {
   "cell_type": "markdown",
   "metadata": {
    "id": "2yyfmK4F-DAh"
   },
   "source": [
    "Instead of using the indexing notation `[]`, Pandas also allows accessing columns as properties of the dataframe using the `.` notation. However, this method only works for columns whose names do not contain spaces or special characters."
   ]
  },
  {
   "cell_type": "code",
   "execution_count": null,
   "metadata": {
    "colab": {
     "base_uri": "https://localhost:8080/"
    },
    "id": "T9JfUejs-DAh",
    "outputId": "2d486a0f-c646-425e-ade4-20209d9c5a87"
   },
   "outputs": [
    {
     "data": {
      "text/plain": [
       "0         0.0\n",
       "1         0.0\n",
       "2         0.0\n",
       "3         0.0\n",
       "4         0.0\n",
       "        ...  \n",
       "243    1444.0\n",
       "244    1365.0\n",
       "245     996.0\n",
       "246     975.0\n",
       "247    1326.0\n",
       "Name: new_cases, Length: 248, dtype: float64"
      ]
     },
     "execution_count": 21,
     "metadata": {},
     "output_type": "execute_result"
    }
   ],
   "source": [
    "covid_df.new_cases"
   ]
  },
  {
   "cell_type": "markdown",
   "metadata": {
    "id": "iXe_u_4U-DAh"
   },
   "source": [
    "Further, you can also pass a list of columns within the indexing notation `[]` to access a subset of the data frame with just the given columns."
   ]
  },
  {
   "cell_type": "code",
   "execution_count": null,
   "metadata": {
    "colab": {
     "base_uri": "https://localhost:8080/"
    },
    "id": "TLQhQDud-DAi",
    "outputId": "3d5b0b5f-93c9-4d73-e2e5-2bd59e8c5a91"
   },
   "outputs": [
    {
     "name": "stdout",
     "output_type": "stream",
     "text": [
      "           date  new_cases\n",
      "0    2019-12-31        0.0\n",
      "1    2020-01-01        0.0\n",
      "2    2020-01-02        0.0\n",
      "3    2020-01-03        0.0\n",
      "4    2020-01-04        0.0\n",
      "..          ...        ...\n",
      "243  2020-08-30     1444.0\n",
      "244  2020-08-31     1365.0\n",
      "245  2020-09-01      996.0\n",
      "246  2020-09-02      975.0\n",
      "247  2020-09-03     1326.0\n",
      "\n",
      "[248 rows x 2 columns]\n"
     ]
    }
   ],
   "source": [
    "cases_df = covid_df[['date', 'new_cases']]\n",
    "print(cases_df)"
   ]
  },
  {
   "cell_type": "markdown",
   "metadata": {
    "id": "-OqOsjp0-DAi"
   },
   "source": [
    "The new data frame `cases_df` is simply a \"view\" of the original data frame `covid_df`. </br>\n",
    "**Both point to the same data in the computer's memory**. </br> Changing any values inside one of them will also change the respective values in the other. </br> \n",
    "***Sharing data between data frames makes data manipulation in Pandas blazing fast***. </br> You needn't worry about the overhead of copying thousands or millions of rows every time you want to create a new data frame by operating on an existing one.\n",
    "\n",
    "Sometimes you might need a *full copy* of the data frame, in which case you can use the `copy` method."
   ]
  },
  {
   "cell_type": "code",
   "execution_count": null,
   "metadata": {
    "id": "XKNGkhp4-DAi"
   },
   "outputs": [],
   "source": [
    "covid_df_copy = covid_df.copy()"
   ]
  },
  {
   "cell_type": "markdown",
   "metadata": {
    "id": "fZeA1waF-DAi"
   },
   "source": [
    "The data within `covid_df_copy` is completely separate from `covid_df`, and changing values inside one of them will not affect the other."
   ]
  },
  {
   "cell_type": "markdown",
   "metadata": {
    "id": "0kg-LL28-DAi"
   },
   "source": [
    "To access a **specific row of data**, Pandas provides the `.loc` method."
   ]
  },
  {
   "cell_type": "code",
   "execution_count": null,
   "metadata": {
    "colab": {
     "base_uri": "https://localhost:8080/"
    },
    "id": "m2fJg3U4-DAi",
    "outputId": "87867866-4645-4016-dc50-edcc8d6dd359"
   },
   "outputs": [
    {
     "name": "stdout",
     "output_type": "stream",
     "text": [
      "           date  new_cases  new_deaths  new_tests\n",
      "0    2019-12-31        0.0         0.0        NaN\n",
      "1    2020-01-01        0.0         0.0        NaN\n",
      "2    2020-01-02        0.0         0.0        NaN\n",
      "3    2020-01-03        0.0         0.0        NaN\n",
      "4    2020-01-04        0.0         0.0        NaN\n",
      "..          ...        ...         ...        ...\n",
      "243  2020-08-30     1444.0         1.0    53541.0\n",
      "244  2020-08-31     1365.0         4.0    42583.0\n",
      "245  2020-09-01      996.0         6.0    54395.0\n",
      "246  2020-09-02      975.0         8.0        NaN\n",
      "247  2020-09-03     1326.0         6.0        NaN\n",
      "\n",
      "[248 rows x 4 columns]\n"
     ]
    }
   ],
   "source": [
    "print(covid_df)"
   ]
  },
  {
   "cell_type": "code",
   "execution_count": null,
   "metadata": {
    "colab": {
     "base_uri": "https://localhost:8080/"
    },
    "id": "-x5PiWVw-DAi",
    "outputId": "03b716ca-4a3d-46c5-e367-10a6a69ba763"
   },
   "outputs": [
    {
     "data": {
      "text/plain": [
       "date          2020-08-30\n",
       "new_cases           1444\n",
       "new_deaths             1\n",
       "new_tests          53541\n",
       "Name: 243, dtype: object"
      ]
     },
     "execution_count": 25,
     "metadata": {},
     "output_type": "execute_result"
    }
   ],
   "source": [
    "covid_df.loc[243]"
   ]
  },
  {
   "cell_type": "markdown",
   "metadata": {
    "id": "MY7gxz3H-DAi"
   },
   "source": [
    "Each retrieved row is also a `Series` object."
   ]
  },
  {
   "cell_type": "code",
   "execution_count": null,
   "metadata": {
    "colab": {
     "base_uri": "https://localhost:8080/"
    },
    "id": "X2CxrJGS-DAi",
    "outputId": "dd0ac279-a4b4-4b8d-9f31-36a5671b42eb"
   },
   "outputs": [
    {
     "data": {
      "text/plain": [
       "pandas.core.series.Series"
      ]
     },
     "execution_count": 26,
     "metadata": {},
     "output_type": "execute_result"
    }
   ],
   "source": [
    "type(covid_df.loc[243])"
   ]
  },
  {
   "cell_type": "markdown",
   "metadata": {
    "id": "Y6vjdUSG-DAi"
   },
   "source": [
    "We can use the `.head` and `.tail` methods to view the first or last few rows of data."
   ]
  },
  {
   "cell_type": "code",
   "execution_count": null,
   "metadata": {
    "colab": {
     "base_uri": "https://localhost:8080/"
    },
    "id": "mAW7pX4N-DAi",
    "outputId": "28d9c52d-25dc-4085-b43d-fcf71849e0f8"
   },
   "outputs": [
    {
     "name": "stdout",
     "output_type": "stream",
     "text": [
      "         date  new_cases  new_deaths  new_tests\n",
      "0  2019-12-31        0.0         0.0        NaN\n",
      "1  2020-01-01        0.0         0.0        NaN\n",
      "2  2020-01-02        0.0         0.0        NaN\n",
      "3  2020-01-03        0.0         0.0        NaN\n",
      "4  2020-01-04        0.0         0.0        NaN\n"
     ]
    }
   ],
   "source": [
    "print(covid_df.head(5))"
   ]
  },
  {
   "cell_type": "code",
   "execution_count": null,
   "metadata": {
    "colab": {
     "base_uri": "https://localhost:8080/"
    },
    "id": "FN7LWt43-DAi",
    "outputId": "26df7dc5-db95-43f2-ec37-962d3437ac7b"
   },
   "outputs": [
    {
     "name": "stdout",
     "output_type": "stream",
     "text": [
      "           date  new_cases  new_deaths  new_tests\n",
      "244  2020-08-31     1365.0         4.0    42583.0\n",
      "245  2020-09-01      996.0         6.0    54395.0\n",
      "246  2020-09-02      975.0         8.0        NaN\n",
      "247  2020-09-03     1326.0         6.0        NaN\n"
     ]
    }
   ],
   "source": [
    "print(covid_df.tail(4))"
   ]
  },
  {
   "cell_type": "markdown",
   "metadata": {
    "id": "mYi39QJ1-DAi"
   },
   "source": [
    "Notice above that while the first few values in the `new_cases` and `new_deaths` columns are `0`, the corresponding values within the `new_tests` column are `NaN`. </br> \n",
    "That is because the CSV ***file does not contain any data*** for the `new_tests` column for specific dates (you can verify this by looking into the file). </br> *These values may be missing or unknown.*"
   ]
  },
  {
   "cell_type": "code",
   "execution_count": null,
   "metadata": {
    "colab": {
     "base_uri": "https://localhost:8080/"
    },
    "id": "kh-JHXs3-DAj",
    "outputId": "5ba39d50-6652-4aa0-a863-ab38587f491c"
   },
   "outputs": [
    {
     "data": {
      "text/plain": [
       "nan"
      ]
     },
     "execution_count": 29,
     "metadata": {},
     "output_type": "execute_result"
    }
   ],
   "source": [
    "covid_df.at[0, 'new_tests']"
   ]
  },
  {
   "cell_type": "code",
   "execution_count": null,
   "metadata": {
    "colab": {
     "base_uri": "https://localhost:8080/"
    },
    "id": "bWyH6Nt9-DAj",
    "outputId": "5db5ad9a-e403-4f2c-81b2-e161a0787461"
   },
   "outputs": [
    {
     "data": {
      "text/plain": [
       "numpy.float64"
      ]
     },
     "execution_count": 30,
     "metadata": {},
     "output_type": "execute_result"
    }
   ],
   "source": [
    "type(covid_df.at[0, 'new_tests'])"
   ]
  },
  {
   "cell_type": "markdown",
   "metadata": {
    "id": "nrk2cpn8-DAj"
   },
   "source": [
    "The distinction between `0` and `NaN` is subtle but important. \n",
    "</br> In this dataset, it represents that daily test numbers were not reported on specific dates. </br> Italy started reporting daily tests on Apr 19, 2020. 93,5310 tests had already been conducted before Apr 19. \n",
    "\n",
    "**We can find the first index that doesn't contain a** `NaN` **value** using a column's `first_valid_index` method."
   ]
  },
  {
   "cell_type": "code",
   "execution_count": null,
   "metadata": {
    "colab": {
     "base_uri": "https://localhost:8080/"
    },
    "id": "X2ZKlOIN-DAj",
    "outputId": "06634136-703e-489f-d22a-4178b8e62f97"
   },
   "outputs": [
    {
     "data": {
      "text/plain": [
       "111"
      ]
     },
     "execution_count": 31,
     "metadata": {},
     "output_type": "execute_result"
    }
   ],
   "source": [
    "covid_df.new_tests.first_valid_index()"
   ]
  },
  {
   "cell_type": "markdown",
   "metadata": {
    "id": "HQQnd8Rk-DAj"
   },
   "source": [
    "Let's look at a few rows before and after this index to verify that the values change from `NaN` to actual numbers. We can do this by passing a range to `loc`."
   ]
  },
  {
   "cell_type": "code",
   "execution_count": null,
   "metadata": {
    "colab": {
     "base_uri": "https://localhost:8080/"
    },
    "id": "mzUO9zgA-DAj",
    "outputId": "72945551-97d2-4db0-a557-b4c51129fa19"
   },
   "outputs": [
    {
     "name": "stdout",
     "output_type": "stream",
     "text": [
      "           date  new_cases  new_deaths  new_tests\n",
      "108  2020-04-17     3786.0       525.0        NaN\n",
      "109  2020-04-18     3493.0       575.0        NaN\n",
      "110  2020-04-19     3491.0       480.0        NaN\n",
      "111  2020-04-20     3047.0       433.0     7841.0\n",
      "112  2020-04-21     2256.0       454.0    28095.0\n",
      "113  2020-04-22     2729.0       534.0    44248.0\n"
     ]
    }
   ],
   "source": [
    "print(covid_df.loc[108:113])"
   ]
  },
  {
   "cell_type": "markdown",
   "metadata": {
    "id": "ejEtFBdR-DAj"
   },
   "source": [
    "We can use the `.sample` method to retrieve a **random sample of rows** from the data frame."
   ]
  },
  {
   "cell_type": "code",
   "execution_count": null,
   "metadata": {
    "colab": {
     "base_uri": "https://localhost:8080/"
    },
    "id": "nDhjbUHz-DAj",
    "outputId": "12b7df5a-2bb9-4981-8c77-3ef19a3f3767"
   },
   "outputs": [
    {
     "name": "stdout",
     "output_type": "stream",
     "text": [
      "           date  new_cases  new_deaths  new_tests\n",
      "85   2020-03-25     5249.0       743.0        NaN\n",
      "101  2020-04-10     4204.0       612.0        NaN\n",
      "126  2020-05-05     1221.0       195.0    32211.0\n",
      "115  2020-04-24     2646.0       464.0    95273.0\n",
      "197  2020-07-15      114.0        17.0    28392.0\n",
      "207  2020-07-25      252.0         5.0    28059.0\n",
      "106  2020-04-15     2972.0       604.0        NaN\n",
      "122  2020-05-01     1872.0       285.0    43732.0\n",
      "13   2020-01-13        0.0         0.0        NaN\n",
      "54   2020-02-23       62.0         2.0        NaN\n"
     ]
    }
   ],
   "source": [
    "print(covid_df.sample(10))"
   ]
  },
  {
   "cell_type": "markdown",
   "metadata": {
    "id": "CFoOVxff-DAj"
   },
   "source": [
    "Notice that even though we have taken a random sample, each row's original index is preserved - this is a useful property of data frames.\n",
    "\n"
   ]
  },
  {
   "cell_type": "markdown",
   "metadata": {
    "id": "ksfKtM2N-DAj"
   },
   "source": [
    "Here's a summary of the functions & methods we looked at in this section:\n",
    "\n",
    "- `covid_df['new_cases']` - Retrieving columns as a `Series` using the column name\n",
    "- `new_cases[243]` - Retrieving values from a `Series` using an index\n",
    "- `covid_df.at[243, 'new_cases']` - Retrieving a single value from a data frame\n",
    "- `covid_df.copy()` - Creating a deep copy of a data frame\n",
    "- `covid_df.loc[243]` - Retrieving a row or range of rows of data from the data frame\n",
    "- `head`, `tail`, and `sample` - Retrieving multiple rows of data from the data frame\n",
    "- `covid_df.new_tests.first_valid_index` - Finding the first non-empty index in a series\n",
    "\n"
   ]
  },
  {
   "cell_type": "markdown",
   "metadata": {
    "id": "uOM4j-jG-DAj"
   },
   "source": [
    "Let's save a snapshot of our notebook before continuing."
   ]
  },
  {
   "cell_type": "markdown",
   "metadata": {
    "id": "sS8KHNyg-DAj"
   },
   "source": [
    "## Analyzing data from data frames\n",
    "\n",
    "Let's try to answer some questions about our data.\n",
    "\n",
    "**Q: What are the total number of reported cases and deaths related to Covid-19 in Italy?**\n",
    "\n",
    "Similar to Numpy arrays, a Pandas series supports the `sum` method to answer these questions."
   ]
  },
  {
   "cell_type": "code",
   "execution_count": null,
   "metadata": {
    "id": "SlzvOS16-DAj"
   },
   "outputs": [],
   "source": [
    "total_cases = covid_df.new_cases.sum()\n",
    "total_deaths = covid_df.new_deaths.sum()"
   ]
  },
  {
   "cell_type": "code",
   "execution_count": null,
   "metadata": {
    "colab": {
     "base_uri": "https://localhost:8080/"
    },
    "id": "aCXh2dxT-DAk",
    "outputId": "cc19f527-0c03-4ef6-c14d-f1be97b1f42c"
   },
   "outputs": [
    {
     "name": "stdout",
     "output_type": "stream",
     "text": [
      "The number of reported cases is 271515 and the number of reported deaths is 35497.\n"
     ]
    }
   ],
   "source": [
    "print('The number of reported cases is {} and the number of reported deaths is {}.'.format(int(total_cases), int(total_deaths)))"
   ]
  },
  {
   "cell_type": "markdown",
   "metadata": {
    "id": "zHXljsPN-DAk"
   },
   "source": [
    "**Q: What is the overall death rate (ratio of reported deaths to reported cases)?**"
   ]
  },
  {
   "cell_type": "code",
   "execution_count": null,
   "metadata": {
    "id": "jF4hQz5B-DAk"
   },
   "outputs": [],
   "source": [
    "death_rate = covid_df.new_deaths.sum() / covid_df.new_cases.sum()"
   ]
  },
  {
   "cell_type": "code",
   "execution_count": null,
   "metadata": {
    "colab": {
     "base_uri": "https://localhost:8080/"
    },
    "id": "-t3vZ1sk-DAk",
    "outputId": "e6d65234-8ee9-498d-e97d-a07eaa5c1033"
   },
   "outputs": [
    {
     "name": "stdout",
     "output_type": "stream",
     "text": [
      "The overall reported death rate in Italy is 13.07 %.\n"
     ]
    }
   ],
   "source": [
    "print(\"The overall reported death rate in Italy is {:.2f} %.\".format(death_rate*100))"
   ]
  },
  {
   "cell_type": "markdown",
   "metadata": {
    "id": "sNdQz_Bp-DAk"
   },
   "source": [
    "**Q: What is the overall number of tests conducted? A total of 935310 tests were conducted before daily test numbers were reported.**\n"
   ]
  },
  {
   "cell_type": "code",
   "execution_count": null,
   "metadata": {
    "id": "zgEeSMLR-DAk"
   },
   "outputs": [],
   "source": [
    "initial_tests = 935310\n",
    "total_tests = initial_tests + covid_df.new_tests.sum()"
   ]
  },
  {
   "cell_type": "code",
   "execution_count": null,
   "metadata": {
    "colab": {
     "base_uri": "https://localhost:8080/"
    },
    "id": "SOQOc__Z-DAk",
    "outputId": "efb6d819-4b9f-4b6c-bb20-cf4d9c8ca7e1"
   },
   "outputs": [
    {
     "data": {
      "text/plain": [
       "5214766.0"
      ]
     },
     "execution_count": 39,
     "metadata": {},
     "output_type": "execute_result"
    }
   ],
   "source": [
    "total_tests"
   ]
  },
  {
   "cell_type": "markdown",
   "metadata": {
    "id": "1tcgiFVG-DAk"
   },
   "source": [
    "**Q: What fraction of tests returned a positive result?**"
   ]
  },
  {
   "cell_type": "code",
   "execution_count": null,
   "metadata": {
    "id": "Y5QvBA9H-DAk"
   },
   "outputs": [],
   "source": [
    "positive_rate = total_cases / total_tests"
   ]
  },
  {
   "cell_type": "code",
   "execution_count": null,
   "metadata": {
    "colab": {
     "base_uri": "https://localhost:8080/"
    },
    "id": "UQd1hLHb-DAk",
    "outputId": "03872a56-54d0-4ba5-beb3-3b11e2be2b10"
   },
   "outputs": [
    {
     "name": "stdout",
     "output_type": "stream",
     "text": [
      "5.21% of tests in Italy led to a positive diagnosis.\n"
     ]
    }
   ],
   "source": [
    "print('{:.2f}% of tests in Italy led to a positive diagnosis.'.format(positive_rate*100))"
   ]
  },
  {
   "cell_type": "markdown",
   "metadata": {
    "id": "_ZGXWhtC-DAm"
   },
   "source": [
    "### Sorting rows using column values\n",
    "\n",
    "The rows can also be sorted by a specific column using `.sort_values`. Let's sort to identify the days with the highest number of cases, then chain it with the `head` method to list just the first ten results."
   ]
  },
  {
   "cell_type": "code",
   "execution_count": null,
   "metadata": {
    "colab": {
     "base_uri": "https://localhost:8080/"
    },
    "id": "2OF3iL8A-DAm",
    "outputId": "c366f027-aa1d-488c-dfa1-667328b9db1b"
   },
   "outputs": [
    {
     "name": "stdout",
     "output_type": "stream",
     "text": [
      "          date  new_cases  new_deaths  new_tests\n",
      "82  2020-03-22     6557.0       795.0        NaN\n",
      "87  2020-03-27     6153.0       660.0        NaN\n",
      "81  2020-03-21     5986.0       625.0        NaN\n",
      "89  2020-03-29     5974.0       887.0        NaN\n",
      "88  2020-03-28     5959.0       971.0        NaN\n",
      "83  2020-03-23     5560.0       649.0        NaN\n",
      "80  2020-03-20     5322.0       429.0        NaN\n",
      "85  2020-03-25     5249.0       743.0        NaN\n",
      "90  2020-03-30     5217.0       758.0        NaN\n",
      "86  2020-03-26     5210.0       685.0        NaN\n"
     ]
    }
   ],
   "source": [
    "sorted_new_cases = covid_df.sort_values('new_cases', ascending=False).head(10)\n",
    "print(sorted_new_cases)"
   ]
  },
  {
   "cell_type": "markdown",
   "metadata": {
    "id": "elacwS81-DAm"
   },
   "source": [
    "It looks like the last two weeks of March had the highest number of daily cases. Let's compare this to the days where the highest number of deaths were recorded."
   ]
  },
  {
   "cell_type": "code",
   "execution_count": null,
   "metadata": {
    "colab": {
     "base_uri": "https://localhost:8080/",
     "height": 562
    },
    "id": "OZ83M1Oe-DAm",
    "outputId": "e91eae3f-22a2-4662-e8e0-4f10f86497b6"
   },
   "outputs": [
    {
     "ename": "AttributeError",
     "evalue": "ignored",
     "output_type": "error",
     "traceback": [
      "\u001b[0;31m---------------------------------------------------------------------------\u001b[0m",
      "\u001b[0;31mAttributeError\u001b[0m                            Traceback (most recent call last)",
      "\u001b[0;32m/usr/local/lib/python3.7/dist-packages/IPython/core/formatters.py\u001b[0m in \u001b[0;36m__call__\u001b[0;34m(self, obj)\u001b[0m\n\u001b[1;32m    336\u001b[0m             \u001b[0mmethod\u001b[0m \u001b[0;34m=\u001b[0m \u001b[0mget_real_method\u001b[0m\u001b[0;34m(\u001b[0m\u001b[0mobj\u001b[0m\u001b[0;34m,\u001b[0m \u001b[0mself\u001b[0m\u001b[0;34m.\u001b[0m\u001b[0mprint_method\u001b[0m\u001b[0;34m)\u001b[0m\u001b[0;34m\u001b[0m\u001b[0;34m\u001b[0m\u001b[0m\n\u001b[1;32m    337\u001b[0m             \u001b[0;32mif\u001b[0m \u001b[0mmethod\u001b[0m \u001b[0;32mis\u001b[0m \u001b[0;32mnot\u001b[0m \u001b[0;32mNone\u001b[0m\u001b[0;34m:\u001b[0m\u001b[0;34m\u001b[0m\u001b[0;34m\u001b[0m\u001b[0m\n\u001b[0;32m--> 338\u001b[0;31m                 \u001b[0;32mreturn\u001b[0m \u001b[0mmethod\u001b[0m\u001b[0;34m(\u001b[0m\u001b[0;34m)\u001b[0m\u001b[0;34m\u001b[0m\u001b[0;34m\u001b[0m\u001b[0m\n\u001b[0m\u001b[1;32m    339\u001b[0m             \u001b[0;32mreturn\u001b[0m \u001b[0;32mNone\u001b[0m\u001b[0;34m\u001b[0m\u001b[0;34m\u001b[0m\u001b[0m\n\u001b[1;32m    340\u001b[0m         \u001b[0;32melse\u001b[0m\u001b[0;34m:\u001b[0m\u001b[0;34m\u001b[0m\u001b[0;34m\u001b[0m\u001b[0m\n",
      "\u001b[0;32m/usr/local/lib/python3.7/dist-packages/pandas/core/frame.py\u001b[0m in \u001b[0;36m_repr_html_\u001b[0;34m(self)\u001b[0m\n\u001b[1;32m    796\u001b[0m \u001b[0;34m\u001b[0m\u001b[0m\n\u001b[1;32m    797\u001b[0m     \u001b[0;34m@\u001b[0m\u001b[0mproperty\u001b[0m\u001b[0;34m\u001b[0m\u001b[0;34m\u001b[0m\u001b[0m\n\u001b[0;32m--> 798\u001b[0;31m     \u001b[0;32mdef\u001b[0m \u001b[0mshape\u001b[0m\u001b[0;34m(\u001b[0m\u001b[0mself\u001b[0m\u001b[0;34m)\u001b[0m \u001b[0;34m->\u001b[0m \u001b[0mtuple\u001b[0m\u001b[0;34m[\u001b[0m\u001b[0mint\u001b[0m\u001b[0;34m,\u001b[0m \u001b[0mint\u001b[0m\u001b[0;34m]\u001b[0m\u001b[0;34m:\u001b[0m\u001b[0;34m\u001b[0m\u001b[0;34m\u001b[0m\u001b[0m\n\u001b[0m\u001b[1;32m    799\u001b[0m         \"\"\"\n\u001b[1;32m    800\u001b[0m         \u001b[0mReturn\u001b[0m \u001b[0ma\u001b[0m \u001b[0mtuple\u001b[0m \u001b[0mrepresenting\u001b[0m \u001b[0mthe\u001b[0m \u001b[0mdimensionality\u001b[0m \u001b[0mof\u001b[0m \u001b[0mthe\u001b[0m \u001b[0mDataFrame\u001b[0m\u001b[0;34m.\u001b[0m\u001b[0;34m\u001b[0m\u001b[0;34m\u001b[0m\u001b[0m\n",
      "\u001b[0;32m/usr/local/lib/python3.7/dist-packages/pandas/io/formats/format.py\u001b[0m in \u001b[0;36mto_html\u001b[0;34m(self, buf, encoding, classes, notebook, border)\u001b[0m\n\u001b[1;32m    986\u001b[0m         \u001b[0mencoding\u001b[0m\u001b[0;34m:\u001b[0m \u001b[0mstr\u001b[0m \u001b[0;34m|\u001b[0m \u001b[0;32mNone\u001b[0m \u001b[0;34m=\u001b[0m \u001b[0;32mNone\u001b[0m\u001b[0;34m,\u001b[0m\u001b[0;34m\u001b[0m\u001b[0;34m\u001b[0m\u001b[0m\n\u001b[1;32m    987\u001b[0m         \u001b[0mclasses\u001b[0m\u001b[0;34m:\u001b[0m \u001b[0mstr\u001b[0m \u001b[0;34m|\u001b[0m \u001b[0mlist\u001b[0m \u001b[0;34m|\u001b[0m \u001b[0mtuple\u001b[0m \u001b[0;34m|\u001b[0m \u001b[0;32mNone\u001b[0m \u001b[0;34m=\u001b[0m \u001b[0;32mNone\u001b[0m\u001b[0;34m,\u001b[0m\u001b[0;34m\u001b[0m\u001b[0;34m\u001b[0m\u001b[0m\n\u001b[0;32m--> 988\u001b[0;31m         \u001b[0mnotebook\u001b[0m\u001b[0;34m:\u001b[0m \u001b[0mbool\u001b[0m \u001b[0;34m=\u001b[0m \u001b[0;32mFalse\u001b[0m\u001b[0;34m,\u001b[0m\u001b[0;34m\u001b[0m\u001b[0;34m\u001b[0m\u001b[0m\n\u001b[0m\u001b[1;32m    989\u001b[0m         \u001b[0mborder\u001b[0m\u001b[0;34m:\u001b[0m \u001b[0mint\u001b[0m \u001b[0;34m|\u001b[0m \u001b[0;32mNone\u001b[0m \u001b[0;34m=\u001b[0m \u001b[0;32mNone\u001b[0m\u001b[0;34m,\u001b[0m\u001b[0;34m\u001b[0m\u001b[0;34m\u001b[0m\u001b[0m\n\u001b[1;32m    990\u001b[0m         \u001b[0mtable_id\u001b[0m\u001b[0;34m:\u001b[0m \u001b[0mstr\u001b[0m \u001b[0;34m|\u001b[0m \u001b[0;32mNone\u001b[0m \u001b[0;34m=\u001b[0m \u001b[0;32mNone\u001b[0m\u001b[0;34m,\u001b[0m\u001b[0;34m\u001b[0m\u001b[0;34m\u001b[0m\u001b[0m\n",
      "\u001b[0;31mAttributeError\u001b[0m: 'NotebookFormatter' object has no attribute 'get_result'"
     ]
    },
    {
     "data": {
      "text/plain": [
       "          date  new_cases  new_deaths  new_tests\n",
       "88  2020-03-28     5959.0       971.0        NaN\n",
       "89  2020-03-29     5974.0       887.0        NaN\n",
       "92  2020-04-01     4053.0       839.0        NaN\n",
       "91  2020-03-31     4050.0       810.0        NaN\n",
       "82  2020-03-22     6557.0       795.0        NaN\n",
       "95  2020-04-04     4585.0       764.0        NaN\n",
       "94  2020-04-03     4668.0       760.0        NaN\n",
       "90  2020-03-30     5217.0       758.0        NaN\n",
       "85  2020-03-25     5249.0       743.0        NaN\n",
       "93  2020-04-02     4782.0       727.0        NaN"
      ]
     },
     "execution_count": 43,
     "metadata": {},
     "output_type": "execute_result"
    }
   ],
   "source": [
    "covid_df.sort_values('new_deaths', ascending=False).head(10)"
   ]
  },
  {
   "cell_type": "markdown",
   "metadata": {
    "id": "2csFjaC2-DAm"
   },
   "source": [
    "It appears that daily deaths hit a peak just about a week after the peak in daily new cases.\n",
    "\n",
    "Let's also look at the days with the least number of cases. We might expect to see the first few days of the year on this list."
   ]
  },
  {
   "cell_type": "code",
   "execution_count": null,
   "metadata": {
    "colab": {
     "base_uri": "https://localhost:8080/",
     "height": 562
    },
    "id": "x3HcY4ly-DAm",
    "outputId": "e522f632-1ce9-417e-f153-7b83f2b1e3a8"
   },
   "outputs": [
    {
     "ename": "AttributeError",
     "evalue": "ignored",
     "output_type": "error",
     "traceback": [
      "\u001b[0;31m---------------------------------------------------------------------------\u001b[0m",
      "\u001b[0;31mAttributeError\u001b[0m                            Traceback (most recent call last)",
      "\u001b[0;32m/usr/local/lib/python3.7/dist-packages/IPython/core/formatters.py\u001b[0m in \u001b[0;36m__call__\u001b[0;34m(self, obj)\u001b[0m\n\u001b[1;32m    336\u001b[0m             \u001b[0mmethod\u001b[0m \u001b[0;34m=\u001b[0m \u001b[0mget_real_method\u001b[0m\u001b[0;34m(\u001b[0m\u001b[0mobj\u001b[0m\u001b[0;34m,\u001b[0m \u001b[0mself\u001b[0m\u001b[0;34m.\u001b[0m\u001b[0mprint_method\u001b[0m\u001b[0;34m)\u001b[0m\u001b[0;34m\u001b[0m\u001b[0;34m\u001b[0m\u001b[0m\n\u001b[1;32m    337\u001b[0m             \u001b[0;32mif\u001b[0m \u001b[0mmethod\u001b[0m \u001b[0;32mis\u001b[0m \u001b[0;32mnot\u001b[0m \u001b[0;32mNone\u001b[0m\u001b[0;34m:\u001b[0m\u001b[0;34m\u001b[0m\u001b[0;34m\u001b[0m\u001b[0m\n\u001b[0;32m--> 338\u001b[0;31m                 \u001b[0;32mreturn\u001b[0m \u001b[0mmethod\u001b[0m\u001b[0;34m(\u001b[0m\u001b[0;34m)\u001b[0m\u001b[0;34m\u001b[0m\u001b[0;34m\u001b[0m\u001b[0m\n\u001b[0m\u001b[1;32m    339\u001b[0m             \u001b[0;32mreturn\u001b[0m \u001b[0;32mNone\u001b[0m\u001b[0;34m\u001b[0m\u001b[0;34m\u001b[0m\u001b[0m\n\u001b[1;32m    340\u001b[0m         \u001b[0;32melse\u001b[0m\u001b[0;34m:\u001b[0m\u001b[0;34m\u001b[0m\u001b[0;34m\u001b[0m\u001b[0m\n",
      "\u001b[0;32m/usr/local/lib/python3.7/dist-packages/pandas/core/frame.py\u001b[0m in \u001b[0;36m_repr_html_\u001b[0;34m(self)\u001b[0m\n\u001b[1;32m    796\u001b[0m \u001b[0;34m\u001b[0m\u001b[0m\n\u001b[1;32m    797\u001b[0m     \u001b[0;34m@\u001b[0m\u001b[0mproperty\u001b[0m\u001b[0;34m\u001b[0m\u001b[0;34m\u001b[0m\u001b[0m\n\u001b[0;32m--> 798\u001b[0;31m     \u001b[0;32mdef\u001b[0m \u001b[0mshape\u001b[0m\u001b[0;34m(\u001b[0m\u001b[0mself\u001b[0m\u001b[0;34m)\u001b[0m \u001b[0;34m->\u001b[0m \u001b[0mtuple\u001b[0m\u001b[0;34m[\u001b[0m\u001b[0mint\u001b[0m\u001b[0;34m,\u001b[0m \u001b[0mint\u001b[0m\u001b[0;34m]\u001b[0m\u001b[0;34m:\u001b[0m\u001b[0;34m\u001b[0m\u001b[0;34m\u001b[0m\u001b[0m\n\u001b[0m\u001b[1;32m    799\u001b[0m         \"\"\"\n\u001b[1;32m    800\u001b[0m         \u001b[0mReturn\u001b[0m \u001b[0ma\u001b[0m \u001b[0mtuple\u001b[0m \u001b[0mrepresenting\u001b[0m \u001b[0mthe\u001b[0m \u001b[0mdimensionality\u001b[0m \u001b[0mof\u001b[0m \u001b[0mthe\u001b[0m \u001b[0mDataFrame\u001b[0m\u001b[0;34m.\u001b[0m\u001b[0;34m\u001b[0m\u001b[0;34m\u001b[0m\u001b[0m\n",
      "\u001b[0;32m/usr/local/lib/python3.7/dist-packages/pandas/io/formats/format.py\u001b[0m in \u001b[0;36mto_html\u001b[0;34m(self, buf, encoding, classes, notebook, border)\u001b[0m\n\u001b[1;32m    986\u001b[0m         \u001b[0mencoding\u001b[0m\u001b[0;34m:\u001b[0m \u001b[0mstr\u001b[0m \u001b[0;34m|\u001b[0m \u001b[0;32mNone\u001b[0m \u001b[0;34m=\u001b[0m \u001b[0;32mNone\u001b[0m\u001b[0;34m,\u001b[0m\u001b[0;34m\u001b[0m\u001b[0;34m\u001b[0m\u001b[0m\n\u001b[1;32m    987\u001b[0m         \u001b[0mclasses\u001b[0m\u001b[0;34m:\u001b[0m \u001b[0mstr\u001b[0m \u001b[0;34m|\u001b[0m \u001b[0mlist\u001b[0m \u001b[0;34m|\u001b[0m \u001b[0mtuple\u001b[0m \u001b[0;34m|\u001b[0m \u001b[0;32mNone\u001b[0m \u001b[0;34m=\u001b[0m \u001b[0;32mNone\u001b[0m\u001b[0;34m,\u001b[0m\u001b[0;34m\u001b[0m\u001b[0;34m\u001b[0m\u001b[0m\n\u001b[0;32m--> 988\u001b[0;31m         \u001b[0mnotebook\u001b[0m\u001b[0;34m:\u001b[0m \u001b[0mbool\u001b[0m \u001b[0;34m=\u001b[0m \u001b[0;32mFalse\u001b[0m\u001b[0;34m,\u001b[0m\u001b[0;34m\u001b[0m\u001b[0;34m\u001b[0m\u001b[0m\n\u001b[0m\u001b[1;32m    989\u001b[0m         \u001b[0mborder\u001b[0m\u001b[0;34m:\u001b[0m \u001b[0mint\u001b[0m \u001b[0;34m|\u001b[0m \u001b[0;32mNone\u001b[0m \u001b[0;34m=\u001b[0m \u001b[0;32mNone\u001b[0m\u001b[0;34m,\u001b[0m\u001b[0;34m\u001b[0m\u001b[0;34m\u001b[0m\u001b[0m\n\u001b[1;32m    990\u001b[0m         \u001b[0mtable_id\u001b[0m\u001b[0;34m:\u001b[0m \u001b[0mstr\u001b[0m \u001b[0;34m|\u001b[0m \u001b[0;32mNone\u001b[0m \u001b[0;34m=\u001b[0m \u001b[0;32mNone\u001b[0m\u001b[0;34m,\u001b[0m\u001b[0;34m\u001b[0m\u001b[0;34m\u001b[0m\u001b[0m\n",
      "\u001b[0;31mAttributeError\u001b[0m: 'NotebookFormatter' object has no attribute 'get_result'"
     ]
    },
    {
     "data": {
      "text/plain": [
       "           date  new_cases  new_deaths  new_tests\n",
       "172  2020-06-20     -148.0        47.0    29875.0\n",
       "0    2019-12-31        0.0         0.0        NaN\n",
       "29   2020-01-29        0.0         0.0        NaN\n",
       "30   2020-01-30        0.0         0.0        NaN\n",
       "32   2020-02-01        0.0         0.0        NaN\n",
       "33   2020-02-02        0.0         0.0        NaN\n",
       "34   2020-02-03        0.0         0.0        NaN\n",
       "36   2020-02-05        0.0         0.0        NaN\n",
       "37   2020-02-06        0.0         0.0        NaN\n",
       "38   2020-02-07        0.0         0.0        NaN"
      ]
     },
     "execution_count": 44,
     "metadata": {},
     "output_type": "execute_result"
    }
   ],
   "source": [
    "covid_df.sort_values('new_cases').head(10)"
   ]
  },
  {
   "cell_type": "markdown",
   "metadata": {
    "id": "_m3QBR1w-DAm"
   },
   "source": [
    "It seems like the count of new cases on Jun 20, 2020, was `-148`, a negative number! Not something we might have expected, but that's the nature of real-world data. It could be a data entry error, or the government may have issued a correction to account for miscounting in the past. Can you dig through news articles online and figure out why the number was negative?\n",
    "\n",
    "Let's look at some days before and after Jun 20, 2020."
   ]
  },
  {
   "cell_type": "code",
   "execution_count": null,
   "metadata": {
    "colab": {
     "base_uri": "https://localhost:8080/",
     "height": 511
    },
    "id": "8PY1bWTT-DAm",
    "outputId": "0169b140-6435-4e13-bfd4-d6ed8cc6046d"
   },
   "outputs": [
    {
     "ename": "AttributeError",
     "evalue": "ignored",
     "output_type": "error",
     "traceback": [
      "\u001b[0;31m---------------------------------------------------------------------------\u001b[0m",
      "\u001b[0;31mAttributeError\u001b[0m                            Traceback (most recent call last)",
      "\u001b[0;32m/usr/local/lib/python3.7/dist-packages/IPython/core/formatters.py\u001b[0m in \u001b[0;36m__call__\u001b[0;34m(self, obj)\u001b[0m\n\u001b[1;32m    336\u001b[0m             \u001b[0mmethod\u001b[0m \u001b[0;34m=\u001b[0m \u001b[0mget_real_method\u001b[0m\u001b[0;34m(\u001b[0m\u001b[0mobj\u001b[0m\u001b[0;34m,\u001b[0m \u001b[0mself\u001b[0m\u001b[0;34m.\u001b[0m\u001b[0mprint_method\u001b[0m\u001b[0;34m)\u001b[0m\u001b[0;34m\u001b[0m\u001b[0;34m\u001b[0m\u001b[0m\n\u001b[1;32m    337\u001b[0m             \u001b[0;32mif\u001b[0m \u001b[0mmethod\u001b[0m \u001b[0;32mis\u001b[0m \u001b[0;32mnot\u001b[0m \u001b[0;32mNone\u001b[0m\u001b[0;34m:\u001b[0m\u001b[0;34m\u001b[0m\u001b[0;34m\u001b[0m\u001b[0m\n\u001b[0;32m--> 338\u001b[0;31m                 \u001b[0;32mreturn\u001b[0m \u001b[0mmethod\u001b[0m\u001b[0;34m(\u001b[0m\u001b[0;34m)\u001b[0m\u001b[0;34m\u001b[0m\u001b[0;34m\u001b[0m\u001b[0m\n\u001b[0m\u001b[1;32m    339\u001b[0m             \u001b[0;32mreturn\u001b[0m \u001b[0;32mNone\u001b[0m\u001b[0;34m\u001b[0m\u001b[0;34m\u001b[0m\u001b[0m\n\u001b[1;32m    340\u001b[0m         \u001b[0;32melse\u001b[0m\u001b[0;34m:\u001b[0m\u001b[0;34m\u001b[0m\u001b[0;34m\u001b[0m\u001b[0m\n",
      "\u001b[0;32m/usr/local/lib/python3.7/dist-packages/pandas/core/frame.py\u001b[0m in \u001b[0;36m_repr_html_\u001b[0;34m(self)\u001b[0m\n\u001b[1;32m    796\u001b[0m \u001b[0;34m\u001b[0m\u001b[0m\n\u001b[1;32m    797\u001b[0m     \u001b[0;34m@\u001b[0m\u001b[0mproperty\u001b[0m\u001b[0;34m\u001b[0m\u001b[0;34m\u001b[0m\u001b[0m\n\u001b[0;32m--> 798\u001b[0;31m     \u001b[0;32mdef\u001b[0m \u001b[0mshape\u001b[0m\u001b[0;34m(\u001b[0m\u001b[0mself\u001b[0m\u001b[0;34m)\u001b[0m \u001b[0;34m->\u001b[0m \u001b[0mtuple\u001b[0m\u001b[0;34m[\u001b[0m\u001b[0mint\u001b[0m\u001b[0;34m,\u001b[0m \u001b[0mint\u001b[0m\u001b[0;34m]\u001b[0m\u001b[0;34m:\u001b[0m\u001b[0;34m\u001b[0m\u001b[0;34m\u001b[0m\u001b[0m\n\u001b[0m\u001b[1;32m    799\u001b[0m         \"\"\"\n\u001b[1;32m    800\u001b[0m         \u001b[0mReturn\u001b[0m \u001b[0ma\u001b[0m \u001b[0mtuple\u001b[0m \u001b[0mrepresenting\u001b[0m \u001b[0mthe\u001b[0m \u001b[0mdimensionality\u001b[0m \u001b[0mof\u001b[0m \u001b[0mthe\u001b[0m \u001b[0mDataFrame\u001b[0m\u001b[0;34m.\u001b[0m\u001b[0;34m\u001b[0m\u001b[0;34m\u001b[0m\u001b[0m\n",
      "\u001b[0;32m/usr/local/lib/python3.7/dist-packages/pandas/io/formats/format.py\u001b[0m in \u001b[0;36mto_html\u001b[0;34m(self, buf, encoding, classes, notebook, border)\u001b[0m\n\u001b[1;32m    986\u001b[0m         \u001b[0mencoding\u001b[0m\u001b[0;34m:\u001b[0m \u001b[0mstr\u001b[0m \u001b[0;34m|\u001b[0m \u001b[0;32mNone\u001b[0m \u001b[0;34m=\u001b[0m \u001b[0;32mNone\u001b[0m\u001b[0;34m,\u001b[0m\u001b[0;34m\u001b[0m\u001b[0;34m\u001b[0m\u001b[0m\n\u001b[1;32m    987\u001b[0m         \u001b[0mclasses\u001b[0m\u001b[0;34m:\u001b[0m \u001b[0mstr\u001b[0m \u001b[0;34m|\u001b[0m \u001b[0mlist\u001b[0m \u001b[0;34m|\u001b[0m \u001b[0mtuple\u001b[0m \u001b[0;34m|\u001b[0m \u001b[0;32mNone\u001b[0m \u001b[0;34m=\u001b[0m \u001b[0;32mNone\u001b[0m\u001b[0;34m,\u001b[0m\u001b[0;34m\u001b[0m\u001b[0;34m\u001b[0m\u001b[0m\n\u001b[0;32m--> 988\u001b[0;31m         \u001b[0mnotebook\u001b[0m\u001b[0;34m:\u001b[0m \u001b[0mbool\u001b[0m \u001b[0;34m=\u001b[0m \u001b[0;32mFalse\u001b[0m\u001b[0;34m,\u001b[0m\u001b[0;34m\u001b[0m\u001b[0;34m\u001b[0m\u001b[0m\n\u001b[0m\u001b[1;32m    989\u001b[0m         \u001b[0mborder\u001b[0m\u001b[0;34m:\u001b[0m \u001b[0mint\u001b[0m \u001b[0;34m|\u001b[0m \u001b[0;32mNone\u001b[0m \u001b[0;34m=\u001b[0m \u001b[0;32mNone\u001b[0m\u001b[0;34m,\u001b[0m\u001b[0;34m\u001b[0m\u001b[0;34m\u001b[0m\u001b[0m\n\u001b[1;32m    990\u001b[0m         \u001b[0mtable_id\u001b[0m\u001b[0;34m:\u001b[0m \u001b[0mstr\u001b[0m \u001b[0;34m|\u001b[0m \u001b[0;32mNone\u001b[0m \u001b[0;34m=\u001b[0m \u001b[0;32mNone\u001b[0m\u001b[0;34m,\u001b[0m\u001b[0;34m\u001b[0m\u001b[0;34m\u001b[0m\u001b[0m\n",
      "\u001b[0;31mAttributeError\u001b[0m: 'NotebookFormatter' object has no attribute 'get_result'"
     ]
    },
    {
     "data": {
      "text/plain": [
       "           date  new_cases  new_deaths  new_tests\n",
       "169  2020-06-17      210.0        34.0    33957.0\n",
       "170  2020-06-18      328.0        43.0    32921.0\n",
       "171  2020-06-19      331.0        66.0    28570.0\n",
       "172  2020-06-20     -148.0        47.0    29875.0\n",
       "173  2020-06-21      264.0        49.0    24581.0\n",
       "174  2020-06-22      224.0        24.0    16152.0\n",
       "175  2020-06-23      221.0        23.0    23225.0"
      ]
     },
     "execution_count": 45,
     "metadata": {},
     "output_type": "execute_result"
    }
   ],
   "source": [
    "covid_df.loc[169:175]"
   ]
  },
  {
   "cell_type": "markdown",
   "metadata": {
    "id": "mz7XrQ21-DAm"
   },
   "source": [
    "For now, let's assume this was indeed a data entry error. We can use one of the following approaches for dealing with the missing or faulty value:\n",
    "1. Replace it with `0`.\n",
    "2. Replace it with the average of the entire column\n",
    "3. Replace it with the average of the values on the previous & next date\n",
    "4. Discard the row entirely\n",
    "\n",
    "Which approach you pick requires some context about the data and the problem. In this case, since we are dealing with data ordered by date, we can go ahead with the third approach.\n",
    "\n",
    "You can use the `.at` method to modify a specific value within the dataframe."
   ]
  },
  {
   "cell_type": "code",
   "execution_count": null,
   "metadata": {
    "id": "-5nfH32T-DAm"
   },
   "outputs": [],
   "source": [
    "covid_df.at[172, 'new_cases'] = (covid_df.at[171, 'new_cases'] + covid_df.at[173, 'new_cases'])/2"
   ]
  },
  {
   "cell_type": "markdown",
   "metadata": {
    "id": "qVOtcKzO-DAm"
   },
   "source": [
    "Here's a summary of the functions & methods we looked at in this section:\n",
    "\n",
    "- `covid_df.new_cases.sum()` - Computing the sum of values in a column or series\n",
    "- `covid_df[covid_df.new_cases > 1000]` - Querying a subset of rows satisfying the chosen criteria using boolean expressions\n",
    "- `df['pos_rate'] = df.new_cases/df.new_tests` - Adding new columns by combining data from existing columns\n",
    "- `covid_df.drop('positive_rate')` - Removing one or more columns from the data frame\n",
    "- `sort_values` - Sorting the rows of a data frame using column values\n",
    "- `covid_df.at[172, 'new_cases'] = ...` - Replacing a value within the data frame"
   ]
  },
  {
   "cell_type": "markdown",
   "metadata": {
    "id": "UBji8Ko6-DAm"
   },
   "source": [
    "Let's save and commit our work before continuing."
   ]
  },
  {
   "cell_type": "markdown",
   "metadata": {
    "id": "-jr8KpZu-DAm"
   },
   "source": [
    "## Working with dates\n",
    "\n",
    "While we've looked at overall numbers for the cases, tests, positive rate, etc., it would also be useful to study these numbers on a month-by-month basis. The `date` column might come in handy here, as Pandas provides many utilities for working with dates."
   ]
  },
  {
   "cell_type": "code",
   "execution_count": null,
   "metadata": {
    "colab": {
     "base_uri": "https://localhost:8080/"
    },
    "id": "BtYnlUXF-DAm",
    "outputId": "e6e397aa-2b5b-484b-d308-3461ef1800c6"
   },
   "outputs": [
    {
     "data": {
      "text/plain": [
       "0      2019-12-31\n",
       "1      2020-01-01\n",
       "2      2020-01-02\n",
       "3      2020-01-03\n",
       "4      2020-01-04\n",
       "          ...    \n",
       "243    2020-08-30\n",
       "244    2020-08-31\n",
       "245    2020-09-01\n",
       "246    2020-09-02\n",
       "247    2020-09-03\n",
       "Name: date, Length: 248, dtype: object"
      ]
     },
     "execution_count": 47,
     "metadata": {},
     "output_type": "execute_result"
    }
   ],
   "source": [
    "covid_df.date"
   ]
  },
  {
   "cell_type": "markdown",
   "metadata": {
    "id": "Feclgo2S-DAn"
   },
   "source": [
    "The data type of date is currently `object`, so Pandas does not know that this column is a date. </br> We can convert it into a `datetime` column using the `pd.to_datetime` method."
   ]
  },
  {
   "cell_type": "code",
   "execution_count": null,
   "metadata": {
    "id": "eX1VeWPr-DAn"
   },
   "outputs": [],
   "source": [
    "covid_df['date'] = pd.to_datetime(covid_df.date)"
   ]
  },
  {
   "cell_type": "code",
   "execution_count": null,
   "metadata": {
    "colab": {
     "base_uri": "https://localhost:8080/"
    },
    "id": "6acd-1Ve-DAn",
    "outputId": "78e2bbe9-1f26-409b-e3c7-3286a05654f2"
   },
   "outputs": [
    {
     "data": {
      "text/plain": [
       "0     2019-12-31\n",
       "1     2020-01-01\n",
       "2     2020-01-02\n",
       "3     2020-01-03\n",
       "4     2020-01-04\n",
       "         ...    \n",
       "243   2020-08-30\n",
       "244   2020-08-31\n",
       "245   2020-09-01\n",
       "246   2020-09-02\n",
       "247   2020-09-03\n",
       "Name: date, Length: 248, dtype: datetime64[ns]"
      ]
     },
     "execution_count": 49,
     "metadata": {},
     "output_type": "execute_result"
    }
   ],
   "source": [
    "covid_df['date']"
   ]
  },
  {
   "cell_type": "markdown",
   "metadata": {
    "id": "H-FfTWOS-DAn"
   },
   "source": [
    "You can see that it now has the datatype `datetime64`. We can now extract different parts of the data into separate columns, using the `DatetimeIndex` class ([view docs](https://pandas.pydata.org/pandas-docs/version/0.23.4/generated/pandas.DatetimeIndex.html))."
   ]
  },
  {
   "cell_type": "code",
   "execution_count": null,
   "metadata": {
    "id": "LJSHfmgM-DAn"
   },
   "outputs": [],
   "source": [
    "covid_df['year'] = pd.DatetimeIndex(covid_df.date).year\n",
    "covid_df['month'] = pd.DatetimeIndex(covid_df.date).month\n",
    "covid_df['day'] = pd.DatetimeIndex(covid_df.date).day\n",
    "covid_df['weekday'] = pd.DatetimeIndex(covid_df.date).weekday"
   ]
  },
  {
   "cell_type": "code",
   "execution_count": null,
   "metadata": {
    "colab": {
     "base_uri": "https://localhost:8080/",
     "height": 613
    },
    "id": "apLCUd2N-DAn",
    "outputId": "f240c76c-c9d8-43fd-bf71-ed418743024f"
   },
   "outputs": [
    {
     "ename": "AttributeError",
     "evalue": "ignored",
     "output_type": "error",
     "traceback": [
      "\u001b[0;31m---------------------------------------------------------------------------\u001b[0m",
      "\u001b[0;31mAttributeError\u001b[0m                            Traceback (most recent call last)",
      "\u001b[0;32m/usr/local/lib/python3.7/dist-packages/IPython/core/formatters.py\u001b[0m in \u001b[0;36m__call__\u001b[0;34m(self, obj)\u001b[0m\n\u001b[1;32m    336\u001b[0m             \u001b[0mmethod\u001b[0m \u001b[0;34m=\u001b[0m \u001b[0mget_real_method\u001b[0m\u001b[0;34m(\u001b[0m\u001b[0mobj\u001b[0m\u001b[0;34m,\u001b[0m \u001b[0mself\u001b[0m\u001b[0;34m.\u001b[0m\u001b[0mprint_method\u001b[0m\u001b[0;34m)\u001b[0m\u001b[0;34m\u001b[0m\u001b[0;34m\u001b[0m\u001b[0m\n\u001b[1;32m    337\u001b[0m             \u001b[0;32mif\u001b[0m \u001b[0mmethod\u001b[0m \u001b[0;32mis\u001b[0m \u001b[0;32mnot\u001b[0m \u001b[0;32mNone\u001b[0m\u001b[0;34m:\u001b[0m\u001b[0;34m\u001b[0m\u001b[0;34m\u001b[0m\u001b[0m\n\u001b[0;32m--> 338\u001b[0;31m                 \u001b[0;32mreturn\u001b[0m \u001b[0mmethod\u001b[0m\u001b[0;34m(\u001b[0m\u001b[0;34m)\u001b[0m\u001b[0;34m\u001b[0m\u001b[0;34m\u001b[0m\u001b[0m\n\u001b[0m\u001b[1;32m    339\u001b[0m             \u001b[0;32mreturn\u001b[0m \u001b[0;32mNone\u001b[0m\u001b[0;34m\u001b[0m\u001b[0;34m\u001b[0m\u001b[0m\n\u001b[1;32m    340\u001b[0m         \u001b[0;32melse\u001b[0m\u001b[0;34m:\u001b[0m\u001b[0;34m\u001b[0m\u001b[0;34m\u001b[0m\u001b[0m\n",
      "\u001b[0;32m/usr/local/lib/python3.7/dist-packages/pandas/core/frame.py\u001b[0m in \u001b[0;36m_repr_html_\u001b[0;34m(self)\u001b[0m\n\u001b[1;32m    796\u001b[0m \u001b[0;34m\u001b[0m\u001b[0m\n\u001b[1;32m    797\u001b[0m     \u001b[0;34m@\u001b[0m\u001b[0mproperty\u001b[0m\u001b[0;34m\u001b[0m\u001b[0;34m\u001b[0m\u001b[0m\n\u001b[0;32m--> 798\u001b[0;31m     \u001b[0;32mdef\u001b[0m \u001b[0mshape\u001b[0m\u001b[0;34m(\u001b[0m\u001b[0mself\u001b[0m\u001b[0;34m)\u001b[0m \u001b[0;34m->\u001b[0m \u001b[0mtuple\u001b[0m\u001b[0;34m[\u001b[0m\u001b[0mint\u001b[0m\u001b[0;34m,\u001b[0m \u001b[0mint\u001b[0m\u001b[0;34m]\u001b[0m\u001b[0;34m:\u001b[0m\u001b[0;34m\u001b[0m\u001b[0;34m\u001b[0m\u001b[0m\n\u001b[0m\u001b[1;32m    799\u001b[0m         \"\"\"\n\u001b[1;32m    800\u001b[0m         \u001b[0mReturn\u001b[0m \u001b[0ma\u001b[0m \u001b[0mtuple\u001b[0m \u001b[0mrepresenting\u001b[0m \u001b[0mthe\u001b[0m \u001b[0mdimensionality\u001b[0m \u001b[0mof\u001b[0m \u001b[0mthe\u001b[0m \u001b[0mDataFrame\u001b[0m\u001b[0;34m.\u001b[0m\u001b[0;34m\u001b[0m\u001b[0;34m\u001b[0m\u001b[0m\n",
      "\u001b[0;32m/usr/local/lib/python3.7/dist-packages/pandas/io/formats/format.py\u001b[0m in \u001b[0;36mto_html\u001b[0;34m(self, buf, encoding, classes, notebook, border)\u001b[0m\n\u001b[1;32m    986\u001b[0m         \u001b[0mencoding\u001b[0m\u001b[0;34m:\u001b[0m \u001b[0mstr\u001b[0m \u001b[0;34m|\u001b[0m \u001b[0;32mNone\u001b[0m \u001b[0;34m=\u001b[0m \u001b[0;32mNone\u001b[0m\u001b[0;34m,\u001b[0m\u001b[0;34m\u001b[0m\u001b[0;34m\u001b[0m\u001b[0m\n\u001b[1;32m    987\u001b[0m         \u001b[0mclasses\u001b[0m\u001b[0;34m:\u001b[0m \u001b[0mstr\u001b[0m \u001b[0;34m|\u001b[0m \u001b[0mlist\u001b[0m \u001b[0;34m|\u001b[0m \u001b[0mtuple\u001b[0m \u001b[0;34m|\u001b[0m \u001b[0;32mNone\u001b[0m \u001b[0;34m=\u001b[0m \u001b[0;32mNone\u001b[0m\u001b[0;34m,\u001b[0m\u001b[0;34m\u001b[0m\u001b[0;34m\u001b[0m\u001b[0m\n\u001b[0;32m--> 988\u001b[0;31m         \u001b[0mnotebook\u001b[0m\u001b[0;34m:\u001b[0m \u001b[0mbool\u001b[0m \u001b[0;34m=\u001b[0m \u001b[0;32mFalse\u001b[0m\u001b[0;34m,\u001b[0m\u001b[0;34m\u001b[0m\u001b[0;34m\u001b[0m\u001b[0m\n\u001b[0m\u001b[1;32m    989\u001b[0m         \u001b[0mborder\u001b[0m\u001b[0;34m:\u001b[0m \u001b[0mint\u001b[0m \u001b[0;34m|\u001b[0m \u001b[0;32mNone\u001b[0m \u001b[0;34m=\u001b[0m \u001b[0;32mNone\u001b[0m\u001b[0;34m,\u001b[0m\u001b[0;34m\u001b[0m\u001b[0;34m\u001b[0m\u001b[0m\n\u001b[1;32m    990\u001b[0m         \u001b[0mtable_id\u001b[0m\u001b[0;34m:\u001b[0m \u001b[0mstr\u001b[0m \u001b[0;34m|\u001b[0m \u001b[0;32mNone\u001b[0m \u001b[0;34m=\u001b[0m \u001b[0;32mNone\u001b[0m\u001b[0;34m,\u001b[0m\u001b[0;34m\u001b[0m\u001b[0;34m\u001b[0m\u001b[0m\n",
      "\u001b[0;31mAttributeError\u001b[0m: 'NotebookFormatter' object has no attribute 'get_result'"
     ]
    },
    {
     "data": {
      "text/plain": [
       "          date  new_cases  new_deaths  new_tests  year  month  day  weekday\n",
       "0   2019-12-31        0.0         0.0        NaN  2019     12   31        1\n",
       "1   2020-01-01        0.0         0.0        NaN  2020      1    1        2\n",
       "2   2020-01-02        0.0         0.0        NaN  2020      1    2        3\n",
       "3   2020-01-03        0.0         0.0        NaN  2020      1    3        4\n",
       "4   2020-01-04        0.0         0.0        NaN  2020      1    4        5\n",
       "..         ...        ...         ...        ...   ...    ...  ...      ...\n",
       "243 2020-08-30     1444.0         1.0    53541.0  2020      8   30        6\n",
       "244 2020-08-31     1365.0         4.0    42583.0  2020      8   31        0\n",
       "245 2020-09-01      996.0         6.0    54395.0  2020      9    1        1\n",
       "246 2020-09-02      975.0         8.0        NaN  2020      9    2        2\n",
       "247 2020-09-03     1326.0         6.0        NaN  2020      9    3        3\n",
       "\n",
       "[248 rows x 8 columns]"
      ]
     },
     "execution_count": 51,
     "metadata": {},
     "output_type": "execute_result"
    }
   ],
   "source": [
    "covid_df"
   ]
  },
  {
   "cell_type": "markdown",
   "metadata": {
    "id": "YR4vx2Hp-DAn"
   },
   "source": [
    "Let's check the overall metrics for May. We can query the rows for May, choose a subset of columns, and use the `sum` method to aggregate each selected column's values."
   ]
  },
  {
   "cell_type": "code",
   "execution_count": null,
   "metadata": {
    "colab": {
     "base_uri": "https://localhost:8080/",
     "height": 375
    },
    "id": "fDfrOYP1-DAn",
    "outputId": "58dac425-f76b-4ab9-d443-80caf3b6b56e"
   },
   "outputs": [
    {
     "ename": "TypeError",
     "evalue": "ignored",
     "output_type": "error",
     "traceback": [
      "\u001b[0;31m---------------------------------------------------------------------------\u001b[0m",
      "\u001b[0;31mTypeError\u001b[0m                                 Traceback (most recent call last)",
      "\u001b[0;32m<ipython-input-53-607491ced1b7>\u001b[0m in \u001b[0;36m<module>\u001b[0;34m()\u001b[0m\n\u001b[1;32m      1\u001b[0m \u001b[0;31m# Query the rows for May\u001b[0m\u001b[0;34m\u001b[0m\u001b[0;34m\u001b[0m\u001b[0;34m\u001b[0m\u001b[0m\n\u001b[0;32m----> 2\u001b[0;31m \u001b[0mcovid_df_may\u001b[0m \u001b[0;34m=\u001b[0m \u001b[0mcovid_df\u001b[0m\u001b[0;34m[\u001b[0m\u001b[0mcovid_df\u001b[0m\u001b[0;34m.\u001b[0m\u001b[0mmonth\u001b[0m \u001b[0;34m==\u001b[0m \u001b[0;36m5\u001b[0m\u001b[0;34m]\u001b[0m\u001b[0;34m\u001b[0m\u001b[0;34m\u001b[0m\u001b[0m\n\u001b[0m\u001b[1;32m      3\u001b[0m \u001b[0;34m\u001b[0m\u001b[0m\n\u001b[1;32m      4\u001b[0m \u001b[0;31m# Extract the subset of columns to be aggregated\u001b[0m\u001b[0;34m\u001b[0m\u001b[0;34m\u001b[0m\u001b[0;34m\u001b[0m\u001b[0m\n\u001b[1;32m      5\u001b[0m \u001b[0mcovid_df_may_metrics\u001b[0m \u001b[0;34m=\u001b[0m \u001b[0mcovid_df_may\u001b[0m\u001b[0;34m[\u001b[0m\u001b[0;34m[\u001b[0m\u001b[0;34m'new_cases'\u001b[0m\u001b[0;34m,\u001b[0m \u001b[0;34m'new_deaths'\u001b[0m\u001b[0;34m,\u001b[0m \u001b[0;34m'new_tests'\u001b[0m\u001b[0;34m]\u001b[0m\u001b[0;34m]\u001b[0m\u001b[0;34m\u001b[0m\u001b[0;34m\u001b[0m\u001b[0m\n",
      "\u001b[0;32m/usr/local/lib/python3.7/dist-packages/pandas/core/ops/common.py\u001b[0m in \u001b[0;36mnew_method\u001b[0;34m(self, other)\u001b[0m\n\u001b[1;32m     63\u001b[0m                     \u001b[0;32mbreak\u001b[0m\u001b[0;34m\u001b[0m\u001b[0;34m\u001b[0m\u001b[0m\n\u001b[1;32m     64\u001b[0m                 \u001b[0;32mif\u001b[0m \u001b[0misinstance\u001b[0m\u001b[0;34m(\u001b[0m\u001b[0mother\u001b[0m\u001b[0;34m,\u001b[0m \u001b[0mcls\u001b[0m\u001b[0;34m)\u001b[0m\u001b[0;34m:\u001b[0m\u001b[0;34m\u001b[0m\u001b[0;34m\u001b[0m\u001b[0m\n\u001b[0;32m---> 65\u001b[0;31m                     \u001b[0;32mreturn\u001b[0m \u001b[0mNotImplemented\u001b[0m\u001b[0;34m\u001b[0m\u001b[0;34m\u001b[0m\u001b[0m\n\u001b[0m\u001b[1;32m     66\u001b[0m \u001b[0;34m\u001b[0m\u001b[0m\n\u001b[1;32m     67\u001b[0m         \u001b[0mother\u001b[0m \u001b[0;34m=\u001b[0m \u001b[0mitem_from_zerodim\u001b[0m\u001b[0;34m(\u001b[0m\u001b[0mother\u001b[0m\u001b[0;34m)\u001b[0m\u001b[0;34m\u001b[0m\u001b[0;34m\u001b[0m\u001b[0m\n",
      "\u001b[0;32m/usr/local/lib/python3.7/dist-packages/pandas/core/ops/__init__.py\u001b[0m in \u001b[0;36mwrapper\u001b[0;34m(self, other)\u001b[0m\n\u001b[1;32m    368\u001b[0m     \u001b[0;31m#  to avoid constructing two potentially large/sparse DataFrames\u001b[0m\u001b[0;34m\u001b[0m\u001b[0;34m\u001b[0m\u001b[0;34m\u001b[0m\u001b[0m\n\u001b[1;32m    369\u001b[0m     join_columns, _, _ = left.columns.join(\n\u001b[0;32m--> 370\u001b[0;31m         \u001b[0mright\u001b[0m\u001b[0;34m.\u001b[0m\u001b[0mcolumns\u001b[0m\u001b[0;34m,\u001b[0m \u001b[0mhow\u001b[0m\u001b[0;34m=\u001b[0m\u001b[0;34m\"outer\"\u001b[0m\u001b[0;34m,\u001b[0m \u001b[0mlevel\u001b[0m\u001b[0;34m=\u001b[0m\u001b[0;32mNone\u001b[0m\u001b[0;34m,\u001b[0m \u001b[0mreturn_indexers\u001b[0m\u001b[0;34m=\u001b[0m\u001b[0;32mTrue\u001b[0m\u001b[0;34m\u001b[0m\u001b[0;34m\u001b[0m\u001b[0m\n\u001b[0m\u001b[1;32m    371\u001b[0m     )\n\u001b[1;32m    372\u001b[0m \u001b[0;34m\u001b[0m\u001b[0m\n",
      "\u001b[0;32m/usr/local/lib/python3.7/dist-packages/pandas/core/ops/array_ops.py\u001b[0m in \u001b[0;36mcomparison_op\u001b[0;34m(left, right, op)\u001b[0m\n\u001b[1;32m    249\u001b[0m     \u001b[0mrvalues\u001b[0m \u001b[0;34m=\u001b[0m \u001b[0mensure_wrapped_if_datetimelike\u001b[0m\u001b[0;34m(\u001b[0m\u001b[0mright\u001b[0m\u001b[0;34m)\u001b[0m\u001b[0;34m\u001b[0m\u001b[0;34m\u001b[0m\u001b[0m\n\u001b[1;32m    250\u001b[0m \u001b[0;34m\u001b[0m\u001b[0m\n\u001b[0;32m--> 251\u001b[0;31m     \u001b[0mrvalues\u001b[0m \u001b[0;34m=\u001b[0m \u001b[0mlib\u001b[0m\u001b[0;34m.\u001b[0m\u001b[0mitem_from_zerodim\u001b[0m\u001b[0;34m(\u001b[0m\u001b[0mrvalues\u001b[0m\u001b[0;34m)\u001b[0m\u001b[0;34m\u001b[0m\u001b[0;34m\u001b[0m\u001b[0m\n\u001b[0m\u001b[1;32m    252\u001b[0m     \u001b[0;32mif\u001b[0m \u001b[0misinstance\u001b[0m\u001b[0;34m(\u001b[0m\u001b[0mrvalues\u001b[0m\u001b[0;34m,\u001b[0m \u001b[0mlist\u001b[0m\u001b[0;34m)\u001b[0m\u001b[0;34m:\u001b[0m\u001b[0;34m\u001b[0m\u001b[0;34m\u001b[0m\u001b[0m\n\u001b[1;32m    253\u001b[0m         \u001b[0;31m# TODO: same for tuples?\u001b[0m\u001b[0;34m\u001b[0m\u001b[0;34m\u001b[0m\u001b[0;34m\u001b[0m\u001b[0m\n",
      "\u001b[0;32m/usr/local/lib/python3.7/dist-packages/pandas/core/ops/array_ops.py\u001b[0m in \u001b[0;36mna_arithmetic_op\u001b[0;34m(left, right, op, is_cmp)\u001b[0m\n\u001b[1;32m    138\u001b[0m \u001b[0;32mdef\u001b[0m \u001b[0m_na_arithmetic_op\u001b[0m\u001b[0;34m(\u001b[0m\u001b[0mleft\u001b[0m\u001b[0;34m,\u001b[0m \u001b[0mright\u001b[0m\u001b[0;34m,\u001b[0m \u001b[0mop\u001b[0m\u001b[0;34m,\u001b[0m \u001b[0mis_cmp\u001b[0m\u001b[0;34m:\u001b[0m \u001b[0mbool\u001b[0m \u001b[0;34m=\u001b[0m \u001b[0;32mFalse\u001b[0m\u001b[0;34m)\u001b[0m\u001b[0;34m:\u001b[0m\u001b[0;34m\u001b[0m\u001b[0;34m\u001b[0m\u001b[0m\n\u001b[1;32m    139\u001b[0m     \"\"\"\n\u001b[0;32m--> 140\u001b[0;31m     \u001b[0mReturn\u001b[0m \u001b[0mthe\u001b[0m \u001b[0mresult\u001b[0m \u001b[0mof\u001b[0m \u001b[0mevaluating\u001b[0m \u001b[0mop\u001b[0m \u001b[0mon\u001b[0m \u001b[0mthe\u001b[0m \u001b[0mpassed\u001b[0m \u001b[0;32min\u001b[0m \u001b[0mvalues\u001b[0m\u001b[0;34m.\u001b[0m\u001b[0;34m\u001b[0m\u001b[0;34m\u001b[0m\u001b[0m\n\u001b[0m\u001b[1;32m    141\u001b[0m \u001b[0;34m\u001b[0m\u001b[0m\n\u001b[1;32m    142\u001b[0m     \u001b[0mIf\u001b[0m \u001b[0mnative\u001b[0m \u001b[0mtypes\u001b[0m \u001b[0mare\u001b[0m \u001b[0;32mnot\u001b[0m \u001b[0mcompatible\u001b[0m\u001b[0;34m,\u001b[0m \u001b[0;32mtry\u001b[0m \u001b[0mcoercion\u001b[0m \u001b[0mto\u001b[0m \u001b[0mobject\u001b[0m \u001b[0mdtype\u001b[0m\u001b[0;34m.\u001b[0m\u001b[0;34m\u001b[0m\u001b[0;34m\u001b[0m\u001b[0m\n",
      "\u001b[0;32m/usr/local/lib/python3.7/dist-packages/pandas/core/computation/expressions.py\u001b[0m in \u001b[0;36m<module>\u001b[0;34m()\u001b[0m\n\u001b[1;32m     17\u001b[0m \u001b[0;32mfrom\u001b[0m \u001b[0mpandas\u001b[0m\u001b[0;34m.\u001b[0m\u001b[0m_typing\u001b[0m \u001b[0;32mimport\u001b[0m \u001b[0mFuncType\u001b[0m\u001b[0;34m\u001b[0m\u001b[0;34m\u001b[0m\u001b[0m\n\u001b[1;32m     18\u001b[0m \u001b[0;34m\u001b[0m\u001b[0m\n\u001b[0;32m---> 19\u001b[0;31m \u001b[0;32mfrom\u001b[0m \u001b[0mpandas\u001b[0m\u001b[0;34m.\u001b[0m\u001b[0mcore\u001b[0m\u001b[0;34m.\u001b[0m\u001b[0mcomputation\u001b[0m\u001b[0;34m.\u001b[0m\u001b[0mcheck\u001b[0m \u001b[0;32mimport\u001b[0m \u001b[0mNUMEXPR_INSTALLED\u001b[0m\u001b[0;34m\u001b[0m\u001b[0;34m\u001b[0m\u001b[0m\n\u001b[0m\u001b[1;32m     20\u001b[0m \u001b[0;32mfrom\u001b[0m \u001b[0mpandas\u001b[0m\u001b[0;34m.\u001b[0m\u001b[0mcore\u001b[0m\u001b[0;34m.\u001b[0m\u001b[0mops\u001b[0m \u001b[0;32mimport\u001b[0m \u001b[0mroperator\u001b[0m\u001b[0;34m\u001b[0m\u001b[0;34m\u001b[0m\u001b[0m\n\u001b[1;32m     21\u001b[0m \u001b[0;34m\u001b[0m\u001b[0m\n",
      "\u001b[0;32m/usr/local/lib/python3.7/dist-packages/pandas/core/computation/check.py\u001b[0m in \u001b[0;36m<module>\u001b[0;34m()\u001b[0m\n\u001b[1;32m      1\u001b[0m \u001b[0;32mfrom\u001b[0m \u001b[0mpandas\u001b[0m\u001b[0;34m.\u001b[0m\u001b[0mcompat\u001b[0m\u001b[0;34m.\u001b[0m\u001b[0m_optional\u001b[0m \u001b[0;32mimport\u001b[0m \u001b[0mimport_optional_dependency\u001b[0m\u001b[0;34m\u001b[0m\u001b[0;34m\u001b[0m\u001b[0m\n\u001b[1;32m      2\u001b[0m \u001b[0;34m\u001b[0m\u001b[0m\n\u001b[0;32m----> 3\u001b[0;31m \u001b[0mne\u001b[0m \u001b[0;34m=\u001b[0m \u001b[0mimport_optional_dependency\u001b[0m\u001b[0;34m(\u001b[0m\u001b[0;34m\"numexpr\"\u001b[0m\u001b[0;34m,\u001b[0m \u001b[0merrors\u001b[0m\u001b[0;34m=\u001b[0m\u001b[0;34m\"warn\"\u001b[0m\u001b[0;34m)\u001b[0m\u001b[0;34m\u001b[0m\u001b[0;34m\u001b[0m\u001b[0m\n\u001b[0m\u001b[1;32m      4\u001b[0m \u001b[0mNUMEXPR_INSTALLED\u001b[0m \u001b[0;34m=\u001b[0m \u001b[0mne\u001b[0m \u001b[0;32mis\u001b[0m \u001b[0;32mnot\u001b[0m \u001b[0;32mNone\u001b[0m\u001b[0;34m\u001b[0m\u001b[0;34m\u001b[0m\u001b[0m\n\u001b[1;32m      5\u001b[0m \u001b[0;32mif\u001b[0m \u001b[0mNUMEXPR_INSTALLED\u001b[0m\u001b[0;34m:\u001b[0m\u001b[0;34m\u001b[0m\u001b[0;34m\u001b[0m\u001b[0m\n",
      "\u001b[0;31mTypeError\u001b[0m: import_optional_dependency() got an unexpected keyword argument 'errors'"
     ]
    }
   ],
   "source": [
    "# Query the rows for May\n",
    "covid_df_may = covid_df[covid_df.month == 5]\n",
    "\n",
    "# Extract the subset of columns to be aggregated\n",
    "covid_df_may_metrics = covid_df_may[['new_cases', 'new_deaths', 'new_tests']]\n",
    "\n",
    "# Get the column-wise sum\n",
    "covid_may_totals = covid_df_may_metrics.sum()"
   ]
  },
  {
   "cell_type": "code",
   "execution_count": null,
   "metadata": {
    "id": "2cZ2z3fz-DAn"
   },
   "outputs": [],
   "source": [
    "covid_may_totals"
   ]
  },
  {
   "cell_type": "code",
   "execution_count": null,
   "metadata": {
    "id": "1OCM90hY-DAn"
   },
   "outputs": [],
   "source": [
    "type(covid_may_totals)"
   ]
  },
  {
   "cell_type": "markdown",
   "metadata": {
    "id": "j1wbZkXw-DAn"
   },
   "source": [
    "We can also combine the above operations into a single statement."
   ]
  },
  {
   "cell_type": "code",
   "execution_count": null,
   "metadata": {
    "id": "4iOsqrbi-DAn"
   },
   "outputs": [],
   "source": [
    "covid_df[covid_df.month == 5][['new_cases', 'new_deaths', 'new_tests']].sum()"
   ]
  },
  {
   "cell_type": "markdown",
   "metadata": {
    "id": "DLLMBQlk-DAn"
   },
   "source": [
    "As another example, let's check if the number of cases reported on Sundays is higher than the average number of cases reported every day. This time, we might want to aggregate columns using the `.mean` method."
   ]
  },
  {
   "cell_type": "code",
   "execution_count": null,
   "metadata": {
    "id": "2fAn2he9-DAn"
   },
   "outputs": [],
   "source": [
    "# Overall average\n",
    "covid_df.new_cases.mean()"
   ]
  },
  {
   "cell_type": "code",
   "execution_count": null,
   "metadata": {
    "id": "mVNEUjMx-DAn"
   },
   "outputs": [],
   "source": [
    "# Average for Sundays\n",
    "covid_df[covid_df.weekday == 6].new_cases.mean()"
   ]
  },
  {
   "cell_type": "markdown",
   "metadata": {
    "id": "AK0Ug4kM-DAo"
   },
   "source": [
    "## Grouping and aggregation\n",
    "\n",
    "As a next step, we might want to summarize the day-wise data and create a new dataframe with month-wise data. We can use the `groupby` function to create a group for each month, select the columns we wish to aggregate, and aggregate them using the `sum` method. "
   ]
  },
  {
   "cell_type": "code",
   "execution_count": null,
   "metadata": {
    "id": "oH5ZZJZG-DAo"
   },
   "outputs": [],
   "source": [
    "covid_month_df = covid_df.groupby('month')[['new_cases', 'new_deaths', 'new_tests']].sum()"
   ]
  },
  {
   "cell_type": "code",
   "execution_count": null,
   "metadata": {
    "id": "pqQC-UVs-DAo"
   },
   "outputs": [],
   "source": [
    "covid_month_df"
   ]
  },
  {
   "cell_type": "markdown",
   "metadata": {
    "id": "JizU5MaB-DAo"
   },
   "source": [
    "The result is a new data frame that uses unique values from the column passed to `groupby` as the index. Grouping and aggregation is a powerful method for progressively summarizing data into smaller data frames.\n",
    "\n",
    "Instead of aggregating by sum, you can also aggregate by other measures like mean. Let's compute the average number of daily new cases, deaths, and tests for each month."
   ]
  },
  {
   "cell_type": "code",
   "execution_count": null,
   "metadata": {
    "id": "HBQtfO4l-DAo"
   },
   "outputs": [],
   "source": [
    "covid_month_mean_df = covid_df.groupby('month')[['new_cases', 'new_deaths', 'new_tests']].mean()"
   ]
  },
  {
   "cell_type": "code",
   "execution_count": null,
   "metadata": {
    "id": "qdQXTs-r-DAo"
   },
   "outputs": [],
   "source": [
    "covid_month_mean_df"
   ]
  },
  {
   "cell_type": "markdown",
   "metadata": {
    "id": "wWLu0uxf-DAo"
   },
   "source": [
    "Apart from grouping, another form of aggregation is the running or cumulative sum of cases, tests, or death up to each row's date. We can use the `cumsum` method to compute the cumulative sum of a column as a new series. Let's add three new columns: `total_cases`, `total_deaths`, and `total_tests`."
   ]
  },
  {
   "cell_type": "code",
   "execution_count": null,
   "metadata": {
    "id": "67JtqCSc-DAo"
   },
   "outputs": [],
   "source": [
    "covid_df['total_cases'] = covid_df.new_cases.cumsum()"
   ]
  },
  {
   "cell_type": "code",
   "execution_count": null,
   "metadata": {
    "id": "mHFcEgSb-DAo"
   },
   "outputs": [],
   "source": [
    "covid_df['total_deaths'] = covid_df.new_deaths.cumsum()"
   ]
  },
  {
   "cell_type": "code",
   "execution_count": null,
   "metadata": {
    "id": "LDts_UNU-DAo"
   },
   "outputs": [],
   "source": [
    "covid_df['total_tests'] = covid_df.new_tests.cumsum() + initial_tests"
   ]
  },
  {
   "cell_type": "markdown",
   "metadata": {
    "id": "0n_f6riH-DAo"
   },
   "source": [
    "We've also included the initial test count in `total_test` to account for tests conducted before daily reporting was started. "
   ]
  },
  {
   "cell_type": "code",
   "execution_count": null,
   "metadata": {
    "id": "b9vH0aeU-DAo"
   },
   "outputs": [],
   "source": [
    "covid_df"
   ]
  },
  {
   "cell_type": "markdown",
   "metadata": {
    "id": "LZQ--OBu-DAo"
   },
   "source": [
    "Notice how the `NaN` values in the `total_tests` column remain unaffected."
   ]
  },
  {
   "cell_type": "markdown",
   "metadata": {
    "id": "MgEPhkAp-DAo"
   },
   "source": [
    "## Merging data from multiple sources\n",
    "\n",
    "To determine other metrics like test per million, cases per million, etc., we require some more information about the country, viz. its population. Let's download another file `locations.csv` that contains health-related information for many countries, including Italy."
   ]
  },
  {
   "cell_type": "code",
   "execution_count": null,
   "metadata": {
    "id": "MFo7cTv3-DAo"
   },
   "outputs": [],
   "source": [
    "urlretrieve('https://gist.githubusercontent.com/aakashns/8684589ef4f266116cdce023377fc9c8/raw/99ce3826b2a9d1e6d0bde7e9e559fc8b6e9ac88b/locations.csv', \n",
    "            'locations.csv')"
   ]
  },
  {
   "cell_type": "code",
   "execution_count": null,
   "metadata": {
    "id": "vl9kh1a_-DAo"
   },
   "outputs": [],
   "source": [
    "locations_df = pd.read_csv('locations.csv')"
   ]
  },
  {
   "cell_type": "code",
   "execution_count": null,
   "metadata": {
    "id": "B5DdZ0R_-DAp"
   },
   "outputs": [],
   "source": [
    "locations_df"
   ]
  },
  {
   "cell_type": "code",
   "execution_count": null,
   "metadata": {
    "id": "QbnQMl3Q-DAp"
   },
   "outputs": [],
   "source": [
    "locations_df[locations_df.location == \"Italy\"]"
   ]
  },
  {
   "cell_type": "markdown",
   "metadata": {
    "id": "HcNZX7dm-DAp"
   },
   "source": [
    "We can merge this data into our existing data frame by adding more columns. However, to merge two data frames, we need at least one common column. Let's insert a `location` column in the `covid_df` dataframe with all values set to `\"Italy\"`."
   ]
  },
  {
   "cell_type": "code",
   "execution_count": null,
   "metadata": {
    "id": "CXvDy8K8-DAp"
   },
   "outputs": [],
   "source": [
    "covid_df['location'] = \"Italy\""
   ]
  },
  {
   "cell_type": "code",
   "execution_count": null,
   "metadata": {
    "id": "p0cYFwEw-DAp"
   },
   "outputs": [],
   "source": [
    "covid_df"
   ]
  },
  {
   "cell_type": "markdown",
   "metadata": {
    "id": "wSxUtLao-DAp"
   },
   "source": [
    "We can now add the columns from `locations_df` into `covid_df` using the `.merge` method."
   ]
  },
  {
   "cell_type": "code",
   "execution_count": null,
   "metadata": {
    "id": "PJqpLuez-DAp"
   },
   "outputs": [],
   "source": [
    "merged_df = covid_df.merge(locations_df, on=\"location\")"
   ]
  },
  {
   "cell_type": "code",
   "execution_count": null,
   "metadata": {
    "id": "48YxYYZu-DAp"
   },
   "outputs": [],
   "source": [
    "merged_df"
   ]
  },
  {
   "cell_type": "markdown",
   "metadata": {
    "id": "JFS63K1a-DAp"
   },
   "source": [
    "The location data for Italy is appended to each row within `covid_df`. If the `covid_df` data frame contained data for multiple locations, then the respective country's location data would be appended for each row.\n",
    "\n",
    "We can now calculate metrics like cases per million, deaths per million, and tests per million."
   ]
  },
  {
   "cell_type": "code",
   "execution_count": null,
   "metadata": {
    "id": "skUgHIPl-DAp"
   },
   "outputs": [],
   "source": [
    "merged_df['cases_per_million'] = merged_df.total_cases * 1e6 / merged_df.population"
   ]
  },
  {
   "cell_type": "code",
   "execution_count": null,
   "metadata": {
    "id": "Y7lBr2Gt-DAp"
   },
   "outputs": [],
   "source": [
    "merged_df['deaths_per_million'] = merged_df.total_deaths * 1e6 / merged_df.population"
   ]
  },
  {
   "cell_type": "code",
   "execution_count": null,
   "metadata": {
    "id": "WjKV69z8-DAp"
   },
   "outputs": [],
   "source": [
    "merged_df['tests_per_million'] = merged_df.total_tests * 1e6 / merged_df.population"
   ]
  },
  {
   "cell_type": "code",
   "execution_count": null,
   "metadata": {
    "id": "9_1Pj0ps-DAp",
    "scrolled": false
   },
   "outputs": [],
   "source": [
    "merged_df"
   ]
  },
  {
   "cell_type": "markdown",
   "metadata": {
    "id": "B6_imqU9-DAp"
   },
   "source": [
    "Let's save and commit our work before continuing."
   ]
  },
  {
   "cell_type": "code",
   "execution_count": null,
   "metadata": {
    "id": "j0cBzO3l-DAp"
   },
   "outputs": [],
   "source": [
    "import jovian"
   ]
  },
  {
   "cell_type": "code",
   "execution_count": null,
   "metadata": {
    "id": "e1paawBR-DAp"
   },
   "outputs": [],
   "source": [
    "jovian.commit()"
   ]
  },
  {
   "cell_type": "markdown",
   "metadata": {
    "id": "ILM0Fiii-DAp"
   },
   "source": [
    "## Writing data back to files\n",
    "\n",
    "After completing your analysis and adding new columns, you should write the results back to a file. Otherwise, the data will be lost when the Jupyter notebook shuts down. Before writing to file, let us first create a data frame containing just the columns we wish to record."
   ]
  },
  {
   "cell_type": "code",
   "execution_count": null,
   "metadata": {
    "id": "Nt49gK9a-DAp"
   },
   "outputs": [],
   "source": [
    "result_df = merged_df[['date',\n",
    "                       'new_cases', \n",
    "                       'total_cases', \n",
    "                       'new_deaths', \n",
    "                       'total_deaths', \n",
    "                       'new_tests', \n",
    "                       'total_tests', \n",
    "                       'cases_per_million', \n",
    "                       'deaths_per_million', \n",
    "                       'tests_per_million']]"
   ]
  },
  {
   "cell_type": "code",
   "execution_count": null,
   "metadata": {
    "id": "7f9lllwL-DAp",
    "scrolled": false
   },
   "outputs": [],
   "source": [
    "result_df"
   ]
  },
  {
   "cell_type": "markdown",
   "metadata": {
    "id": "NVszHJpL-DAp"
   },
   "source": [
    "To write the data from the data frame into a file, we can use the `to_csv` function. "
   ]
  },
  {
   "cell_type": "code",
   "execution_count": null,
   "metadata": {
    "id": "4Cbc1EHK-DAp"
   },
   "outputs": [],
   "source": [
    "result_df.to_csv('results.csv', index=None)"
   ]
  },
  {
   "cell_type": "markdown",
   "metadata": {
    "id": "l_625GC6-DAp"
   },
   "source": [
    "The `to_csv` function also includes an additional column for storing the index of the dataframe by default. We pass `index=None` to turn off this behavior. You can now verify that the `results.csv` is created and contains data from the data frame in CSV format:\n",
    "\n",
    "```\n",
    "date,new_cases,total_cases,new_deaths,total_deaths,new_tests,total_tests,cases_per_million,deaths_per_million,tests_per_million\n",
    "2020-02-27,78.0,400.0,1.0,12.0,,,6.61574439992122,0.1984723319976366,\n",
    "2020-02-28,250.0,650.0,5.0,17.0,,,10.750584649871982,0.28116913699665186,\n",
    "2020-02-29,238.0,888.0,4.0,21.0,,,14.686952567825108,0.34732658099586405,\n",
    "2020-03-01,240.0,1128.0,8.0,29.0,,,18.656399207777838,0.47964146899428844,\n",
    "2020-03-02,561.0,1689.0,6.0,35.0,,,27.93498072866735,0.5788776349931067,\n",
    "2020-03-03,347.0,2036.0,17.0,52.0,,,33.67413899559901,0.8600467719897585,\n",
    "...\n",
    "```"
   ]
  },
  {
   "cell_type": "markdown",
   "metadata": {
    "id": "T7Hqbz6V-DAq"
   },
   "source": [
    "## Basic Plotting with Pandas\n",
    "\n",
    "We generally use a library like `matplotlib` or `seaborn` plot graphs within a Jupyter notebook. However, Pandas dataframes & series provide a handy `.plot` method for quick and easy plotting.\n",
    "\n",
    "Let's plot a line graph showing how the number of daily cases varies over time."
   ]
  },
  {
   "cell_type": "code",
   "execution_count": null,
   "metadata": {
    "id": "WseJ4dsP-DAq"
   },
   "outputs": [],
   "source": [
    "result_df.new_cases.plot();"
   ]
  },
  {
   "cell_type": "markdown",
   "metadata": {
    "id": "3Q9ZDiGW-DAq"
   },
   "source": [
    "While this plot shows the overall trend, it's hard to tell where the peak occurred, as there are no dates on the X-axis. We can use the `date` column as the index for the data frame to address this issue."
   ]
  },
  {
   "cell_type": "code",
   "execution_count": null,
   "metadata": {
    "id": "p0_XIx0c-DAr"
   },
   "outputs": [],
   "source": [
    "result_df.set_index('date', inplace=True)"
   ]
  },
  {
   "cell_type": "code",
   "execution_count": null,
   "metadata": {
    "id": "ho7sNIFK-DAr"
   },
   "outputs": [],
   "source": [
    "result_df"
   ]
  },
  {
   "cell_type": "markdown",
   "metadata": {
    "id": "OCAo31KK-DAr"
   },
   "source": [
    "Notice that the index of a data frame doesn't have to be numeric. Using the date as the index also allows us to get the data for a specific data using `.loc`."
   ]
  },
  {
   "cell_type": "code",
   "execution_count": null,
   "metadata": {
    "id": "XQ1YAiwz-DAr"
   },
   "outputs": [],
   "source": [
    "result_df.loc['2020-09-01']"
   ]
  },
  {
   "cell_type": "markdown",
   "metadata": {
    "id": "iEIduG-2-DAr"
   },
   "source": [
    "Let's plot the new cases & new deaths per day as line graphs."
   ]
  },
  {
   "cell_type": "code",
   "execution_count": null,
   "metadata": {
    "id": "FthzYgfS-DAr"
   },
   "outputs": [],
   "source": [
    "result_df.new_cases.plot()\n",
    "result_df.new_deaths.plot();"
   ]
  },
  {
   "cell_type": "markdown",
   "metadata": {
    "id": "OHbzgVGU-DAr"
   },
   "source": [
    "We can also compare the total cases vs. total deaths."
   ]
  },
  {
   "cell_type": "code",
   "execution_count": null,
   "metadata": {
    "id": "tty0wXfR-DAr"
   },
   "outputs": [],
   "source": [
    "result_df.total_cases.plot()\n",
    "result_df.total_deaths.plot();"
   ]
  },
  {
   "cell_type": "markdown",
   "metadata": {
    "id": "MmW91B53-DAr"
   },
   "source": [
    "Let's see how the death rate and positive testing rates vary over time."
   ]
  },
  {
   "cell_type": "code",
   "execution_count": null,
   "metadata": {
    "id": "aarNK6vq-DAr"
   },
   "outputs": [],
   "source": [
    "death_rate = result_df.total_deaths / result_df.total_cases"
   ]
  },
  {
   "cell_type": "code",
   "execution_count": null,
   "metadata": {
    "id": "VTwcd7jF-DAs"
   },
   "outputs": [],
   "source": [
    "death_rate.plot(title='Death Rate');"
   ]
  },
  {
   "cell_type": "code",
   "execution_count": null,
   "metadata": {
    "id": "FJGABQci-DAs"
   },
   "outputs": [],
   "source": [
    "positive_rates = result_df.total_cases / result_df.total_tests\n",
    "positive_rates.plot(title='Positive Rate');"
   ]
  },
  {
   "cell_type": "markdown",
   "metadata": {
    "id": "oTokvFXY-DAs"
   },
   "source": [
    "Finally, let's plot some month-wise data using a bar chart to visualize the trend at a higher level."
   ]
  },
  {
   "cell_type": "code",
   "execution_count": null,
   "metadata": {
    "id": "KSEDDa-6-DAs"
   },
   "outputs": [],
   "source": [
    "covid_month_df.new_cases.plot(kind='bar');"
   ]
  },
  {
   "cell_type": "code",
   "execution_count": null,
   "metadata": {
    "id": "rlinJ3w5-DAs"
   },
   "outputs": [],
   "source": [
    "  covid_month_df.new_tests.plot(kind='bar')"
   ]
  }
 ],
 "metadata": {
  "colab": {
   "name": "python-pandas-data-analysis.ipynb",
   "provenance": []
  },
  "kernelspec": {
   "display_name": "Python 3",
   "language": "python",
   "name": "python3"
  },
  "language_info": {
   "codemirror_mode": {
    "name": "ipython",
    "version": 3
   },
   "file_extension": ".py",
   "mimetype": "text/x-python",
   "name": "python",
   "nbconvert_exporter": "python",
   "pygments_lexer": "ipython3",
   "version": "3.8.8"
  }
 },
 "nbformat": 4,
 "nbformat_minor": 1
}
